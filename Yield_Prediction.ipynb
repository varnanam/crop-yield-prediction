{
 "cells": [
  {
   "cell_type": "code",
   "execution_count": 1,
   "id": "3840c63b",
   "metadata": {},
   "outputs": [],
   "source": [
    "import pandas as pd \n",
    "import numpy as np\n",
    "import seaborn as sns \n",
    "import matplotlib.pyplot as plt"
   ]
  },
  {
   "cell_type": "code",
   "execution_count": 2,
   "id": "76975e08",
   "metadata": {},
   "outputs": [
    {
     "data": {
      "text/html": [
       "<div>\n",
       "<style scoped>\n",
       "    .dataframe tbody tr th:only-of-type {\n",
       "        vertical-align: middle;\n",
       "    }\n",
       "\n",
       "    .dataframe tbody tr th {\n",
       "        vertical-align: top;\n",
       "    }\n",
       "\n",
       "    .dataframe thead th {\n",
       "        text-align: right;\n",
       "    }\n",
       "</style>\n",
       "<table border=\"1\" class=\"dataframe\">\n",
       "  <thead>\n",
       "    <tr style=\"text-align: right;\">\n",
       "      <th></th>\n",
       "      <th>sl.no</th>\n",
       "      <th>country</th>\n",
       "      <th>Area_Code</th>\n",
       "      <th>Year</th>\n",
       "      <th>Year Code</th>\n",
       "      <th>Element</th>\n",
       "      <th>Domain</th>\n",
       "      <th>Item</th>\n",
       "      <th>Unit_pesticide</th>\n",
       "      <th>Value_pesticide</th>\n",
       "      <th>avg_rain</th>\n",
       "      <th>avg_temp</th>\n",
       "      <th>crop Code</th>\n",
       "      <th>Domain_1</th>\n",
       "      <th>Element Code</th>\n",
       "      <th>Element_1</th>\n",
       "      <th>Item_Code</th>\n",
       "      <th>Item.1</th>\n",
       "      <th>Unit_crop</th>\n",
       "      <th>Value_crop</th>\n",
       "    </tr>\n",
       "  </thead>\n",
       "  <tbody>\n",
       "    <tr>\n",
       "      <th>0</th>\n",
       "      <td>1</td>\n",
       "      <td>Algeria</td>\n",
       "      <td>4</td>\n",
       "      <td>1990</td>\n",
       "      <td>1990</td>\n",
       "      <td>Use</td>\n",
       "      <td>Pesticides Use</td>\n",
       "      <td>Pesticides (total)</td>\n",
       "      <td>tonnes of active ingredients</td>\n",
       "      <td>1828.92</td>\n",
       "      <td>89.0</td>\n",
       "      <td>17.48</td>\n",
       "      <td>QC</td>\n",
       "      <td>Crops</td>\n",
       "      <td>5419</td>\n",
       "      <td>Yield</td>\n",
       "      <td>56</td>\n",
       "      <td>Maize</td>\n",
       "      <td>hg/ha</td>\n",
       "      <td>16500</td>\n",
       "    </tr>\n",
       "    <tr>\n",
       "      <th>1</th>\n",
       "      <td>2</td>\n",
       "      <td>Algeria</td>\n",
       "      <td>4</td>\n",
       "      <td>1990</td>\n",
       "      <td>1990</td>\n",
       "      <td>Use</td>\n",
       "      <td>Pesticides Use</td>\n",
       "      <td>Pesticides (total)</td>\n",
       "      <td>tonnes of active ingredients</td>\n",
       "      <td>1828.92</td>\n",
       "      <td>89.0</td>\n",
       "      <td>17.48</td>\n",
       "      <td>QC</td>\n",
       "      <td>Crops</td>\n",
       "      <td>5419</td>\n",
       "      <td>Yield</td>\n",
       "      <td>116</td>\n",
       "      <td>Potatoes</td>\n",
       "      <td>hg/ha</td>\n",
       "      <td>78936</td>\n",
       "    </tr>\n",
       "    <tr>\n",
       "      <th>2</th>\n",
       "      <td>3</td>\n",
       "      <td>Algeria</td>\n",
       "      <td>4</td>\n",
       "      <td>1990</td>\n",
       "      <td>1990</td>\n",
       "      <td>Use</td>\n",
       "      <td>Pesticides Use</td>\n",
       "      <td>Pesticides (total)</td>\n",
       "      <td>tonnes of active ingredients</td>\n",
       "      <td>1828.92</td>\n",
       "      <td>89.0</td>\n",
       "      <td>17.48</td>\n",
       "      <td>QC</td>\n",
       "      <td>Crops</td>\n",
       "      <td>5419</td>\n",
       "      <td>Yield</td>\n",
       "      <td>27</td>\n",
       "      <td>Rice, paddy</td>\n",
       "      <td>hg/ha</td>\n",
       "      <td>28000</td>\n",
       "    </tr>\n",
       "    <tr>\n",
       "      <th>3</th>\n",
       "      <td>4</td>\n",
       "      <td>Algeria</td>\n",
       "      <td>4</td>\n",
       "      <td>1990</td>\n",
       "      <td>1990</td>\n",
       "      <td>Use</td>\n",
       "      <td>Pesticides Use</td>\n",
       "      <td>Pesticides (total)</td>\n",
       "      <td>tonnes of active ingredients</td>\n",
       "      <td>1828.92</td>\n",
       "      <td>89.0</td>\n",
       "      <td>17.48</td>\n",
       "      <td>QC</td>\n",
       "      <td>Crops</td>\n",
       "      <td>5419</td>\n",
       "      <td>Yield</td>\n",
       "      <td>83</td>\n",
       "      <td>Sorghum</td>\n",
       "      <td>hg/ha</td>\n",
       "      <td>16571</td>\n",
       "    </tr>\n",
       "    <tr>\n",
       "      <th>4</th>\n",
       "      <td>5</td>\n",
       "      <td>Algeria</td>\n",
       "      <td>4</td>\n",
       "      <td>1990</td>\n",
       "      <td>1990</td>\n",
       "      <td>Use</td>\n",
       "      <td>Pesticides Use</td>\n",
       "      <td>Pesticides (total)</td>\n",
       "      <td>tonnes of active ingredients</td>\n",
       "      <td>1828.92</td>\n",
       "      <td>89.0</td>\n",
       "      <td>17.48</td>\n",
       "      <td>QC</td>\n",
       "      <td>Crops</td>\n",
       "      <td>5419</td>\n",
       "      <td>Yield</td>\n",
       "      <td>15</td>\n",
       "      <td>Wheat</td>\n",
       "      <td>hg/ha</td>\n",
       "      <td>6315</td>\n",
       "    </tr>\n",
       "  </tbody>\n",
       "</table>\n",
       "</div>"
      ],
      "text/plain": [
       "   sl.no  country  Area_Code  Year  Year Code Element          Domain  \\\n",
       "0      1  Algeria          4  1990       1990     Use  Pesticides Use   \n",
       "1      2  Algeria          4  1990       1990     Use  Pesticides Use   \n",
       "2      3  Algeria          4  1990       1990     Use  Pesticides Use   \n",
       "3      4  Algeria          4  1990       1990     Use  Pesticides Use   \n",
       "4      5  Algeria          4  1990       1990     Use  Pesticides Use   \n",
       "\n",
       "                 Item                Unit_pesticide  Value_pesticide  \\\n",
       "0  Pesticides (total)  tonnes of active ingredients          1828.92   \n",
       "1  Pesticides (total)  tonnes of active ingredients          1828.92   \n",
       "2  Pesticides (total)  tonnes of active ingredients          1828.92   \n",
       "3  Pesticides (total)  tonnes of active ingredients          1828.92   \n",
       "4  Pesticides (total)  tonnes of active ingredients          1828.92   \n",
       "\n",
       "   avg_rain  avg_temp crop Code Domain_1  Element Code Element_1  Item_Code  \\\n",
       "0      89.0     17.48        QC    Crops          5419     Yield         56   \n",
       "1      89.0     17.48        QC    Crops          5419     Yield        116   \n",
       "2      89.0     17.48        QC    Crops          5419     Yield         27   \n",
       "3      89.0     17.48        QC    Crops          5419     Yield         83   \n",
       "4      89.0     17.48        QC    Crops          5419     Yield         15   \n",
       "\n",
       "        Item.1 Unit_crop  Value_crop  \n",
       "0        Maize     hg/ha       16500  \n",
       "1     Potatoes     hg/ha       78936  \n",
       "2  Rice, paddy     hg/ha       28000  \n",
       "3      Sorghum     hg/ha       16571  \n",
       "4        Wheat     hg/ha        6315  "
      ]
     },
     "execution_count": 2,
     "metadata": {},
     "output_type": "execute_result"
    }
   ],
   "source": [
    "data= pd.read_csv('yield_production.csv',encoding=\"ISO-8859-1\")\n",
    "data.head()"
   ]
  },
  {
   "cell_type": "code",
   "execution_count": 3,
   "id": "51ff4480",
   "metadata": {},
   "outputs": [
    {
     "data": {
      "text/plain": [
       "(39918, 20)"
      ]
     },
     "execution_count": 3,
     "metadata": {},
     "output_type": "execute_result"
    }
   ],
   "source": [
    "data.shape"
   ]
  },
  {
   "cell_type": "code",
   "execution_count": 4,
   "id": "1cf71791",
   "metadata": {},
   "outputs": [],
   "source": [
    "data.rename(columns = {'Value_crop':'Crop_Yield'}, inplace = True)"
   ]
  },
  {
   "cell_type": "code",
   "execution_count": 5,
   "id": "949cd7b4",
   "metadata": {},
   "outputs": [],
   "source": [
    "data.drop('sl.no',axis=1, inplace= True)"
   ]
  },
  {
   "cell_type": "code",
   "execution_count": 6,
   "id": "e739d9f9",
   "metadata": {},
   "outputs": [
    {
     "name": "stdout",
     "output_type": "stream",
     "text": [
      "<class 'pandas.core.frame.DataFrame'>\n",
      "RangeIndex: 39918 entries, 0 to 39917\n",
      "Data columns (total 19 columns):\n",
      " #   Column           Non-Null Count  Dtype  \n",
      "---  ------           --------------  -----  \n",
      " 0   country          39918 non-null  object \n",
      " 1   Area_Code        39918 non-null  int64  \n",
      " 2   Year             39918 non-null  int64  \n",
      " 3   Year Code        39918 non-null  int64  \n",
      " 4   Element          39918 non-null  object \n",
      " 5   Domain           39918 non-null  object \n",
      " 6   Item             39918 non-null  object \n",
      " 7   Unit_pesticide   39918 non-null  object \n",
      " 8   Value_pesticide  39918 non-null  float64\n",
      " 9   avg_rain         34061 non-null  float64\n",
      " 10  avg_temp         29749 non-null  float64\n",
      " 11  crop Code        39918 non-null  object \n",
      " 12  Domain_1         39918 non-null  object \n",
      " 13  Element Code     39918 non-null  int64  \n",
      " 14  Element_1        39918 non-null  object \n",
      " 15  Item_Code        39918 non-null  int64  \n",
      " 16  Item.1           39918 non-null  object \n",
      " 17  Unit_crop        39918 non-null  object \n",
      " 18  Crop_Yield       39918 non-null  int64  \n",
      "dtypes: float64(3), int64(6), object(10)\n",
      "memory usage: 5.8+ MB\n"
     ]
    }
   ],
   "source": [
    "data.info()"
   ]
  },
  {
   "cell_type": "code",
   "execution_count": 7,
   "id": "1a0b3c28",
   "metadata": {},
   "outputs": [
    {
     "data": {
      "text/plain": [
       "country                0\n",
       "Area_Code              0\n",
       "Year                   0\n",
       "Year Code              0\n",
       "Element                0\n",
       "Domain                 0\n",
       "Item                   0\n",
       "Unit_pesticide         0\n",
       "Value_pesticide        0\n",
       "avg_rain            5857\n",
       "avg_temp           10169\n",
       "crop Code              0\n",
       "Domain_1               0\n",
       "Element Code           0\n",
       "Element_1              0\n",
       "Item_Code              0\n",
       "Item.1                 0\n",
       "Unit_crop              0\n",
       "Crop_Yield             0\n",
       "dtype: int64"
      ]
     },
     "execution_count": 7,
     "metadata": {},
     "output_type": "execute_result"
    }
   ],
   "source": [
    "data.isna().sum()"
   ]
  },
  {
   "cell_type": "code",
   "execution_count": 8,
   "id": "84a63bcd",
   "metadata": {},
   "outputs": [
    {
     "data": {
      "text/plain": [
       "2403"
      ]
     },
     "execution_count": 8,
     "metadata": {},
     "output_type": "execute_result"
    }
   ],
   "source": [
    "data.duplicated().sum()"
   ]
  },
  {
   "cell_type": "code",
   "execution_count": 9,
   "id": "1de4f19c",
   "metadata": {},
   "outputs": [
    {
     "data": {
      "text/html": [
       "<div>\n",
       "<style scoped>\n",
       "    .dataframe tbody tr th:only-of-type {\n",
       "        vertical-align: middle;\n",
       "    }\n",
       "\n",
       "    .dataframe tbody tr th {\n",
       "        vertical-align: top;\n",
       "    }\n",
       "\n",
       "    .dataframe thead th {\n",
       "        text-align: right;\n",
       "    }\n",
       "</style>\n",
       "<table border=\"1\" class=\"dataframe\">\n",
       "  <thead>\n",
       "    <tr style=\"text-align: right;\">\n",
       "      <th></th>\n",
       "      <th>Area_Code</th>\n",
       "      <th>Year</th>\n",
       "      <th>Year Code</th>\n",
       "      <th>Value_pesticide</th>\n",
       "      <th>avg_rain</th>\n",
       "      <th>avg_temp</th>\n",
       "      <th>Element Code</th>\n",
       "      <th>Item_Code</th>\n",
       "      <th>Crop_Yield</th>\n",
       "    </tr>\n",
       "  </thead>\n",
       "  <tbody>\n",
       "    <tr>\n",
       "      <th>count</th>\n",
       "      <td>39918.000000</td>\n",
       "      <td>39918.000000</td>\n",
       "      <td>39918.000000</td>\n",
       "      <td>3.991800e+04</td>\n",
       "      <td>34061.000000</td>\n",
       "      <td>29749.000000</td>\n",
       "      <td>39918.0</td>\n",
       "      <td>39918.000000</td>\n",
       "      <td>39918.000000</td>\n",
       "    </tr>\n",
       "    <tr>\n",
       "      <th>mean</th>\n",
       "      <td>113.917731</td>\n",
       "      <td>2002.518187</td>\n",
       "      <td>2002.518187</td>\n",
       "      <td>3.841459e+04</td>\n",
       "      <td>1176.759755</td>\n",
       "      <td>20.535172</td>\n",
       "      <td>5419.0</td>\n",
       "      <td>104.764868</td>\n",
       "      <td>76026.596698</td>\n",
       "    </tr>\n",
       "    <tr>\n",
       "      <th>std</th>\n",
       "      <td>69.680326</td>\n",
       "      <td>7.468651</td>\n",
       "      <td>7.468651</td>\n",
       "      <td>1.183517e+05</td>\n",
       "      <td>740.342302</td>\n",
       "      <td>6.318210</td>\n",
       "      <td>0.0</td>\n",
       "      <td>88.601369</td>\n",
       "      <td>83374.816889</td>\n",
       "    </tr>\n",
       "    <tr>\n",
       "      <th>min</th>\n",
       "      <td>1.000000</td>\n",
       "      <td>1990.000000</td>\n",
       "      <td>1990.000000</td>\n",
       "      <td>0.000000e+00</td>\n",
       "      <td>51.000000</td>\n",
       "      <td>1.300000</td>\n",
       "      <td>5419.0</td>\n",
       "      <td>15.000000</td>\n",
       "      <td>0.000000</td>\n",
       "    </tr>\n",
       "    <tr>\n",
       "      <th>25%</th>\n",
       "      <td>54.000000</td>\n",
       "      <td>1996.000000</td>\n",
       "      <td>1996.000000</td>\n",
       "      <td>8.157900e+02</td>\n",
       "      <td>593.000000</td>\n",
       "      <td>16.700000</td>\n",
       "      <td>5419.0</td>\n",
       "      <td>56.000000</td>\n",
       "      <td>19792.750000</td>\n",
       "    </tr>\n",
       "    <tr>\n",
       "      <th>50%</th>\n",
       "      <td>103.000000</td>\n",
       "      <td>2003.000000</td>\n",
       "      <td>2003.000000</td>\n",
       "      <td>8.306310e+03</td>\n",
       "      <td>1083.000000</td>\n",
       "      <td>21.530000</td>\n",
       "      <td>5419.0</td>\n",
       "      <td>116.000000</td>\n",
       "      <td>39269.500000</td>\n",
       "    </tr>\n",
       "    <tr>\n",
       "      <th>75%</th>\n",
       "      <td>165.000000</td>\n",
       "      <td>2009.000000</td>\n",
       "      <td>2009.000000</td>\n",
       "      <td>3.940648e+04</td>\n",
       "      <td>1668.000000</td>\n",
       "      <td>25.980000</td>\n",
       "      <td>5419.0</td>\n",
       "      <td>122.000000</td>\n",
       "      <td>103584.750000</td>\n",
       "    </tr>\n",
       "    <tr>\n",
       "      <th>max</th>\n",
       "      <td>299.000000</td>\n",
       "      <td>2016.000000</td>\n",
       "      <td>2016.000000</td>\n",
       "      <td>1.807000e+06</td>\n",
       "      <td>3240.000000</td>\n",
       "      <td>30.650000</td>\n",
       "      <td>5419.0</td>\n",
       "      <td>489.000000</td>\n",
       "      <td>554855.000000</td>\n",
       "    </tr>\n",
       "  </tbody>\n",
       "</table>\n",
       "</div>"
      ],
      "text/plain": [
       "          Area_Code          Year     Year Code  Value_pesticide  \\\n",
       "count  39918.000000  39918.000000  39918.000000     3.991800e+04   \n",
       "mean     113.917731   2002.518187   2002.518187     3.841459e+04   \n",
       "std       69.680326      7.468651      7.468651     1.183517e+05   \n",
       "min        1.000000   1990.000000   1990.000000     0.000000e+00   \n",
       "25%       54.000000   1996.000000   1996.000000     8.157900e+02   \n",
       "50%      103.000000   2003.000000   2003.000000     8.306310e+03   \n",
       "75%      165.000000   2009.000000   2009.000000     3.940648e+04   \n",
       "max      299.000000   2016.000000   2016.000000     1.807000e+06   \n",
       "\n",
       "           avg_rain      avg_temp  Element Code     Item_Code     Crop_Yield  \n",
       "count  34061.000000  29749.000000       39918.0  39918.000000   39918.000000  \n",
       "mean    1176.759755     20.535172        5419.0    104.764868   76026.596698  \n",
       "std      740.342302      6.318210           0.0     88.601369   83374.816889  \n",
       "min       51.000000      1.300000        5419.0     15.000000       0.000000  \n",
       "25%      593.000000     16.700000        5419.0     56.000000   19792.750000  \n",
       "50%     1083.000000     21.530000        5419.0    116.000000   39269.500000  \n",
       "75%     1668.000000     25.980000        5419.0    122.000000  103584.750000  \n",
       "max     3240.000000     30.650000        5419.0    489.000000  554855.000000  "
      ]
     },
     "execution_count": 9,
     "metadata": {},
     "output_type": "execute_result"
    }
   ],
   "source": [
    "data.describe()"
   ]
  },
  {
   "cell_type": "code",
   "execution_count": 10,
   "id": "b86ce845",
   "metadata": {},
   "outputs": [
    {
     "data": {
      "text/html": [
       "<div>\n",
       "<style scoped>\n",
       "    .dataframe tbody tr th:only-of-type {\n",
       "        vertical-align: middle;\n",
       "    }\n",
       "\n",
       "    .dataframe tbody tr th {\n",
       "        vertical-align: top;\n",
       "    }\n",
       "\n",
       "    .dataframe thead th {\n",
       "        text-align: right;\n",
       "    }\n",
       "</style>\n",
       "<table border=\"1\" class=\"dataframe\">\n",
       "  <thead>\n",
       "    <tr style=\"text-align: right;\">\n",
       "      <th></th>\n",
       "      <th>country</th>\n",
       "      <th>Element</th>\n",
       "      <th>Domain</th>\n",
       "      <th>Item</th>\n",
       "      <th>Unit_pesticide</th>\n",
       "      <th>crop Code</th>\n",
       "      <th>Domain_1</th>\n",
       "      <th>Element_1</th>\n",
       "      <th>Item.1</th>\n",
       "      <th>Unit_crop</th>\n",
       "    </tr>\n",
       "  </thead>\n",
       "  <tbody>\n",
       "    <tr>\n",
       "      <th>count</th>\n",
       "      <td>39918</td>\n",
       "      <td>39918</td>\n",
       "      <td>39918</td>\n",
       "      <td>39918</td>\n",
       "      <td>39918</td>\n",
       "      <td>39918</td>\n",
       "      <td>39918</td>\n",
       "      <td>39918</td>\n",
       "      <td>39918</td>\n",
       "      <td>39918</td>\n",
       "    </tr>\n",
       "    <tr>\n",
       "      <th>unique</th>\n",
       "      <td>167</td>\n",
       "      <td>1</td>\n",
       "      <td>1</td>\n",
       "      <td>1</td>\n",
       "      <td>1</td>\n",
       "      <td>1</td>\n",
       "      <td>1</td>\n",
       "      <td>1</td>\n",
       "      <td>10</td>\n",
       "      <td>1</td>\n",
       "    </tr>\n",
       "    <tr>\n",
       "      <th>top</th>\n",
       "      <td>India</td>\n",
       "      <td>Use</td>\n",
       "      <td>Pesticides Use</td>\n",
       "      <td>Pesticides (total)</td>\n",
       "      <td>tonnes of active ingredients</td>\n",
       "      <td>QC</td>\n",
       "      <td>Crops</td>\n",
       "      <td>Yield</td>\n",
       "      <td>Potatoes</td>\n",
       "      <td>hg/ha</td>\n",
       "    </tr>\n",
       "    <tr>\n",
       "      <th>freq</th>\n",
       "      <td>4248</td>\n",
       "      <td>39918</td>\n",
       "      <td>39918</td>\n",
       "      <td>39918</td>\n",
       "      <td>39918</td>\n",
       "      <td>39918</td>\n",
       "      <td>39918</td>\n",
       "      <td>39918</td>\n",
       "      <td>5980</td>\n",
       "      <td>39918</td>\n",
       "    </tr>\n",
       "  </tbody>\n",
       "</table>\n",
       "</div>"
      ],
      "text/plain": [
       "       country Element          Domain                Item  \\\n",
       "count    39918   39918           39918               39918   \n",
       "unique     167       1               1                   1   \n",
       "top      India     Use  Pesticides Use  Pesticides (total)   \n",
       "freq      4248   39918           39918               39918   \n",
       "\n",
       "                      Unit_pesticide crop Code Domain_1 Element_1    Item.1  \\\n",
       "count                          39918     39918    39918     39918     39918   \n",
       "unique                             1         1        1         1        10   \n",
       "top     tonnes of active ingredients        QC    Crops     Yield  Potatoes   \n",
       "freq                           39918     39918    39918     39918      5980   \n",
       "\n",
       "       Unit_crop  \n",
       "count      39918  \n",
       "unique         1  \n",
       "top        hg/ha  \n",
       "freq       39918  "
      ]
     },
     "execution_count": 10,
     "metadata": {},
     "output_type": "execute_result"
    }
   ],
   "source": [
    "data.describe(include='object')"
   ]
  },
  {
   "cell_type": "code",
   "execution_count": 11,
   "id": "f7336c5b",
   "metadata": {},
   "outputs": [
    {
     "data": {
      "text/plain": [
       "country              167\n",
       "Area_Code            167\n",
       "Year                  27\n",
       "Year Code             27\n",
       "Element                1\n",
       "Domain                 1\n",
       "Item                   1\n",
       "Unit_pesticide         1\n",
       "Value_pesticide     2811\n",
       "avg_rain             131\n",
       "avg_temp            1881\n",
       "crop Code              1\n",
       "Domain_1               1\n",
       "Element Code           1\n",
       "Element_1              1\n",
       "Item_Code             10\n",
       "Item.1                10\n",
       "Unit_crop              1\n",
       "Crop_Yield         20126\n",
       "dtype: int64"
      ]
     },
     "execution_count": 11,
     "metadata": {},
     "output_type": "execute_result"
    }
   ],
   "source": [
    "data.nunique()"
   ]
  },
  {
   "cell_type": "code",
   "execution_count": 12,
   "id": "cd950074",
   "metadata": {},
   "outputs": [
    {
     "name": "stdout",
     "output_type": "stream",
     "text": [
      "Number of numerical variables:  9\n"
     ]
    },
    {
     "data": {
      "text/html": [
       "<div>\n",
       "<style scoped>\n",
       "    .dataframe tbody tr th:only-of-type {\n",
       "        vertical-align: middle;\n",
       "    }\n",
       "\n",
       "    .dataframe tbody tr th {\n",
       "        vertical-align: top;\n",
       "    }\n",
       "\n",
       "    .dataframe thead th {\n",
       "        text-align: right;\n",
       "    }\n",
       "</style>\n",
       "<table border=\"1\" class=\"dataframe\">\n",
       "  <thead>\n",
       "    <tr style=\"text-align: right;\">\n",
       "      <th></th>\n",
       "      <th>Area_Code</th>\n",
       "      <th>Year</th>\n",
       "      <th>Year Code</th>\n",
       "      <th>Value_pesticide</th>\n",
       "      <th>avg_rain</th>\n",
       "      <th>avg_temp</th>\n",
       "      <th>Element Code</th>\n",
       "      <th>Item_Code</th>\n",
       "      <th>Crop_Yield</th>\n",
       "    </tr>\n",
       "  </thead>\n",
       "  <tbody>\n",
       "    <tr>\n",
       "      <th>0</th>\n",
       "      <td>4</td>\n",
       "      <td>1990</td>\n",
       "      <td>1990</td>\n",
       "      <td>1828.92</td>\n",
       "      <td>89.0</td>\n",
       "      <td>17.48</td>\n",
       "      <td>5419</td>\n",
       "      <td>56</td>\n",
       "      <td>16500</td>\n",
       "    </tr>\n",
       "    <tr>\n",
       "      <th>1</th>\n",
       "      <td>4</td>\n",
       "      <td>1990</td>\n",
       "      <td>1990</td>\n",
       "      <td>1828.92</td>\n",
       "      <td>89.0</td>\n",
       "      <td>17.48</td>\n",
       "      <td>5419</td>\n",
       "      <td>116</td>\n",
       "      <td>78936</td>\n",
       "    </tr>\n",
       "    <tr>\n",
       "      <th>2</th>\n",
       "      <td>4</td>\n",
       "      <td>1990</td>\n",
       "      <td>1990</td>\n",
       "      <td>1828.92</td>\n",
       "      <td>89.0</td>\n",
       "      <td>17.48</td>\n",
       "      <td>5419</td>\n",
       "      <td>27</td>\n",
       "      <td>28000</td>\n",
       "    </tr>\n",
       "    <tr>\n",
       "      <th>3</th>\n",
       "      <td>4</td>\n",
       "      <td>1990</td>\n",
       "      <td>1990</td>\n",
       "      <td>1828.92</td>\n",
       "      <td>89.0</td>\n",
       "      <td>17.48</td>\n",
       "      <td>5419</td>\n",
       "      <td>83</td>\n",
       "      <td>16571</td>\n",
       "    </tr>\n",
       "    <tr>\n",
       "      <th>4</th>\n",
       "      <td>4</td>\n",
       "      <td>1990</td>\n",
       "      <td>1990</td>\n",
       "      <td>1828.92</td>\n",
       "      <td>89.0</td>\n",
       "      <td>17.48</td>\n",
       "      <td>5419</td>\n",
       "      <td>15</td>\n",
       "      <td>6315</td>\n",
       "    </tr>\n",
       "  </tbody>\n",
       "</table>\n",
       "</div>"
      ],
      "text/plain": [
       "   Area_Code  Year  Year Code  Value_pesticide  avg_rain  avg_temp  \\\n",
       "0          4  1990       1990          1828.92      89.0     17.48   \n",
       "1          4  1990       1990          1828.92      89.0     17.48   \n",
       "2          4  1990       1990          1828.92      89.0     17.48   \n",
       "3          4  1990       1990          1828.92      89.0     17.48   \n",
       "4          4  1990       1990          1828.92      89.0     17.48   \n",
       "\n",
       "   Element Code  Item_Code  Crop_Yield  \n",
       "0          5419         56       16500  \n",
       "1          5419        116       78936  \n",
       "2          5419         27       28000  \n",
       "3          5419         83       16571  \n",
       "4          5419         15        6315  "
      ]
     },
     "execution_count": 12,
     "metadata": {},
     "output_type": "execute_result"
    }
   ],
   "source": [
    "# list of numerical variables\n",
    "numerical_features = [feature for feature in data.columns if data[feature].dtypes != 'O']\n",
    "\n",
    "print('Number of numerical variables: ', len(numerical_features))\n",
    "\n",
    "# visualise the numerical variables\n",
    "data[numerical_features].head()"
   ]
  },
  {
   "cell_type": "code",
   "execution_count": 13,
   "id": "d688135b",
   "metadata": {},
   "outputs": [
    {
     "name": "stdout",
     "output_type": "stream",
     "text": [
      "The feature is Area_Code and number of numerical features are 167\n",
      "The feature is Year and number of numerical features are 27\n",
      "The feature is Year Code and number of numerical features are 27\n",
      "The feature is Value_pesticide and number of numerical features are 2811\n",
      "The feature is avg_rain and number of numerical features are 132\n",
      "The feature is avg_temp and number of numerical features are 1882\n",
      "The feature is Element Code and number of numerical features are 1\n",
      "The feature is Item_Code and number of numerical features are 10\n",
      "The feature is Crop_Yield and number of numerical features are 20126\n"
     ]
    }
   ],
   "source": [
    "for feature in numerical_features:\n",
    "    print('The feature is {} and number of numerical features are {}'.format(feature,len(data[feature].unique())))"
   ]
  },
  {
   "cell_type": "code",
   "execution_count": 14,
   "id": "b55e69b0",
   "metadata": {},
   "outputs": [
    {
     "name": "stdout",
     "output_type": "stream",
     "text": [
      "Number of categorical variables:  10\n"
     ]
    },
    {
     "data": {
      "text/html": [
       "<div>\n",
       "<style scoped>\n",
       "    .dataframe tbody tr th:only-of-type {\n",
       "        vertical-align: middle;\n",
       "    }\n",
       "\n",
       "    .dataframe tbody tr th {\n",
       "        vertical-align: top;\n",
       "    }\n",
       "\n",
       "    .dataframe thead th {\n",
       "        text-align: right;\n",
       "    }\n",
       "</style>\n",
       "<table border=\"1\" class=\"dataframe\">\n",
       "  <thead>\n",
       "    <tr style=\"text-align: right;\">\n",
       "      <th></th>\n",
       "      <th>country</th>\n",
       "      <th>Element</th>\n",
       "      <th>Domain</th>\n",
       "      <th>Item</th>\n",
       "      <th>Unit_pesticide</th>\n",
       "      <th>crop Code</th>\n",
       "      <th>Domain_1</th>\n",
       "      <th>Element_1</th>\n",
       "      <th>Item.1</th>\n",
       "      <th>Unit_crop</th>\n",
       "    </tr>\n",
       "  </thead>\n",
       "  <tbody>\n",
       "    <tr>\n",
       "      <th>0</th>\n",
       "      <td>Algeria</td>\n",
       "      <td>Use</td>\n",
       "      <td>Pesticides Use</td>\n",
       "      <td>Pesticides (total)</td>\n",
       "      <td>tonnes of active ingredients</td>\n",
       "      <td>QC</td>\n",
       "      <td>Crops</td>\n",
       "      <td>Yield</td>\n",
       "      <td>Maize</td>\n",
       "      <td>hg/ha</td>\n",
       "    </tr>\n",
       "    <tr>\n",
       "      <th>1</th>\n",
       "      <td>Algeria</td>\n",
       "      <td>Use</td>\n",
       "      <td>Pesticides Use</td>\n",
       "      <td>Pesticides (total)</td>\n",
       "      <td>tonnes of active ingredients</td>\n",
       "      <td>QC</td>\n",
       "      <td>Crops</td>\n",
       "      <td>Yield</td>\n",
       "      <td>Potatoes</td>\n",
       "      <td>hg/ha</td>\n",
       "    </tr>\n",
       "    <tr>\n",
       "      <th>2</th>\n",
       "      <td>Algeria</td>\n",
       "      <td>Use</td>\n",
       "      <td>Pesticides Use</td>\n",
       "      <td>Pesticides (total)</td>\n",
       "      <td>tonnes of active ingredients</td>\n",
       "      <td>QC</td>\n",
       "      <td>Crops</td>\n",
       "      <td>Yield</td>\n",
       "      <td>Rice, paddy</td>\n",
       "      <td>hg/ha</td>\n",
       "    </tr>\n",
       "    <tr>\n",
       "      <th>3</th>\n",
       "      <td>Algeria</td>\n",
       "      <td>Use</td>\n",
       "      <td>Pesticides Use</td>\n",
       "      <td>Pesticides (total)</td>\n",
       "      <td>tonnes of active ingredients</td>\n",
       "      <td>QC</td>\n",
       "      <td>Crops</td>\n",
       "      <td>Yield</td>\n",
       "      <td>Sorghum</td>\n",
       "      <td>hg/ha</td>\n",
       "    </tr>\n",
       "    <tr>\n",
       "      <th>4</th>\n",
       "      <td>Algeria</td>\n",
       "      <td>Use</td>\n",
       "      <td>Pesticides Use</td>\n",
       "      <td>Pesticides (total)</td>\n",
       "      <td>tonnes of active ingredients</td>\n",
       "      <td>QC</td>\n",
       "      <td>Crops</td>\n",
       "      <td>Yield</td>\n",
       "      <td>Wheat</td>\n",
       "      <td>hg/ha</td>\n",
       "    </tr>\n",
       "  </tbody>\n",
       "</table>\n",
       "</div>"
      ],
      "text/plain": [
       "   country Element          Domain                Item  \\\n",
       "0  Algeria     Use  Pesticides Use  Pesticides (total)   \n",
       "1  Algeria     Use  Pesticides Use  Pesticides (total)   \n",
       "2  Algeria     Use  Pesticides Use  Pesticides (total)   \n",
       "3  Algeria     Use  Pesticides Use  Pesticides (total)   \n",
       "4  Algeria     Use  Pesticides Use  Pesticides (total)   \n",
       "\n",
       "                 Unit_pesticide crop Code Domain_1 Element_1       Item.1  \\\n",
       "0  tonnes of active ingredients        QC    Crops     Yield        Maize   \n",
       "1  tonnes of active ingredients        QC    Crops     Yield     Potatoes   \n",
       "2  tonnes of active ingredients        QC    Crops     Yield  Rice, paddy   \n",
       "3  tonnes of active ingredients        QC    Crops     Yield      Sorghum   \n",
       "4  tonnes of active ingredients        QC    Crops     Yield        Wheat   \n",
       "\n",
       "  Unit_crop  \n",
       "0     hg/ha  \n",
       "1     hg/ha  \n",
       "2     hg/ha  \n",
       "3     hg/ha  \n",
       "4     hg/ha  "
      ]
     },
     "execution_count": 14,
     "metadata": {},
     "output_type": "execute_result"
    }
   ],
   "source": [
    "# list of categorical variables\n",
    "categorical_features = [feature for feature in data.columns if data[feature].dtypes =='O']\n",
    "\n",
    "print('Number of categorical variables: ', len(categorical_features))\n",
    "\n",
    "# visualise the categorical variables\n",
    "data[categorical_features].head()"
   ]
  },
  {
   "cell_type": "code",
   "execution_count": 15,
   "id": "a330e7f9",
   "metadata": {},
   "outputs": [
    {
     "name": "stdout",
     "output_type": "stream",
     "text": [
      "The feature is country and number of categories are 167\n",
      "The feature is Element and number of categories are 1\n",
      "The feature is Domain and number of categories are 1\n",
      "The feature is Item and number of categories are 1\n",
      "The feature is Unit_pesticide and number of categories are 1\n",
      "The feature is crop Code and number of categories are 1\n",
      "The feature is Domain_1 and number of categories are 1\n",
      "The feature is Element_1 and number of categories are 1\n",
      "The feature is Item.1 and number of categories are 10\n",
      "The feature is Unit_crop and number of categories are 1\n"
     ]
    }
   ],
   "source": [
    "for feature in categorical_features:\n",
    "    print('The feature is {} and number of categories are {}'.format(feature,len(data[feature].unique())))"
   ]
  },
  {
   "cell_type": "code",
   "execution_count": 16,
   "id": "c7710857",
   "metadata": {},
   "outputs": [
    {
     "data": {
      "image/png": "[encoded data removed]",
      "text/plain": [
       "<Figure size 432x288 with 1 Axes>"
      ]
     },
     "metadata": {
      "needs_background": "light"
     },
     "output_type": "display_data"
    },
    {
     "data": {
      "image/png": "[encoded data removed]",
      "text/plain": [
       "<Figure size 432x288 with 1 Axes>"
      ]
     },
     "metadata": {
      "needs_background": "light"
     },
     "output_type": "display_data"
    },
    {
     "data": {
      "image/png": "[encoded data removed]",
      "text/plain": [
       "<Figure size 432x288 with 1 Axes>"
      ]
     },
     "metadata": {
      "needs_background": "light"
     },
     "output_type": "display_data"
    },
    {
     "data": {
      "image/png": "[encoded data removed]",
      "text/plain": [
       "<Figure size 432x288 with 1 Axes>"
      ]
     },
     "metadata": {
      "needs_background": "light"
     },
     "output_type": "display_data"
    },
    {
     "data": {
      "image/png": "[encoded data removed]",
      "text/plain": [
       "<Figure size 432x288 with 1 Axes>"
      ]
     },
     "metadata": {
      "needs_background": "light"
     },
     "output_type": "display_data"
    },
    {
     "data": {
      "image/png": "[encoded data removed]",
      "text/plain": [
       "<Figure size 432x288 with 1 Axes>"
      ]
     },
     "metadata": {
      "needs_background": "light"
     },
     "output_type": "display_data"
    },
    {
     "data": {
      "image/png": "[encoded data removed]",
      "text/plain": [
       "<Figure size 432x288 with 1 Axes>"
      ]
     },
     "metadata": {
      "needs_background": "light"
     },
     "output_type": "display_data"
    },
    {
     "data": {
      "image/png": "[encoded data removed]",
      "text/plain": [
       "<Figure size 432x288 with 1 Axes>"
      ]
     },
     "metadata": {
      "needs_background": "light"
     },
     "output_type": "display_data"
    },
    {
     "data": {
      "image/png": "[encoded data removed]",
      "text/plain": [
       "<Figure size 432x288 with 1 Axes>"
      ]
     },
     "metadata": {
      "needs_background": "light"
     },
     "output_type": "display_data"
    }
   ],
   "source": [
    "for x in numerical_features:\n",
    "    data[[x]].boxplot()\n",
    "    plt.show()"
   ]
  },
  {
   "cell_type": "code",
   "execution_count": 17,
   "id": "24f44ae2",
   "metadata": {},
   "outputs": [
    {
     "data": {
      "image/png": "[encoded data removed]",
      "text/plain": [
       "<Figure size 432x288 with 1 Axes>"
      ]
     },
     "metadata": {
      "needs_background": "light"
     },
     "output_type": "display_data"
    }
   ],
   "source": [
    "sns.countplot(x='Item.1',data=data)\n",
    "sns.set(rc={'figure.figsize':(10,5)})"
   ]
  },
  {
   "cell_type": "code",
   "execution_count": 18,
   "id": "17d82ea2",
   "metadata": {},
   "outputs": [
    {
     "data": {
      "text/html": [
       "<div>\n",
       "<style scoped>\n",
       "    .dataframe tbody tr th:only-of-type {\n",
       "        vertical-align: middle;\n",
       "    }\n",
       "\n",
       "    .dataframe tbody tr th {\n",
       "        vertical-align: top;\n",
       "    }\n",
       "\n",
       "    .dataframe thead tr th {\n",
       "        text-align: left;\n",
       "    }\n",
       "\n",
       "    .dataframe thead tr:last-of-type th {\n",
       "        text-align: right;\n",
       "    }\n",
       "</style>\n",
       "<table border=\"1\" class=\"dataframe\">\n",
       "  <thead>\n",
       "    <tr>\n",
       "      <th></th>\n",
       "      <th colspan=\"8\" halign=\"left\">Crop_Yield</th>\n",
       "    </tr>\n",
       "    <tr>\n",
       "      <th></th>\n",
       "      <th>count</th>\n",
       "      <th>mean</th>\n",
       "      <th>std</th>\n",
       "      <th>min</th>\n",
       "      <th>25%</th>\n",
       "      <th>50%</th>\n",
       "      <th>75%</th>\n",
       "      <th>max</th>\n",
       "    </tr>\n",
       "    <tr>\n",
       "      <th>Item.1</th>\n",
       "      <th></th>\n",
       "      <th></th>\n",
       "      <th></th>\n",
       "      <th></th>\n",
       "      <th></th>\n",
       "      <th></th>\n",
       "      <th></th>\n",
       "      <th></th>\n",
       "    </tr>\n",
       "  </thead>\n",
       "  <tbody>\n",
       "    <tr>\n",
       "      <th>Cassava</th>\n",
       "      <td>3199.0</td>\n",
       "      <td>136255.098468</td>\n",
       "      <td>83429.378424</td>\n",
       "      <td>11024.0</td>\n",
       "      <td>75821.0</td>\n",
       "      <td>123077.0</td>\n",
       "      <td>171429.00</td>\n",
       "      <td>385818.0</td>\n",
       "    </tr>\n",
       "    <tr>\n",
       "      <th>Maize</th>\n",
       "      <td>5867.0</td>\n",
       "      <td>37600.554287</td>\n",
       "      <td>32472.839845</td>\n",
       "      <td>343.0</td>\n",
       "      <td>16807.0</td>\n",
       "      <td>25726.0</td>\n",
       "      <td>48987.00</td>\n",
       "      <td>404127.0</td>\n",
       "    </tr>\n",
       "    <tr>\n",
       "      <th>Plantains and others</th>\n",
       "      <td>1021.0</td>\n",
       "      <td>97509.796278</td>\n",
       "      <td>73461.464024</td>\n",
       "      <td>286.0</td>\n",
       "      <td>51333.0</td>\n",
       "      <td>83753.0</td>\n",
       "      <td>118132.00</td>\n",
       "      <td>554855.0</td>\n",
       "    </tr>\n",
       "    <tr>\n",
       "      <th>Potatoes</th>\n",
       "      <td>5980.0</td>\n",
       "      <td>194663.174080</td>\n",
       "      <td>94952.141665</td>\n",
       "      <td>8052.0</td>\n",
       "      <td>131320.5</td>\n",
       "      <td>175712.0</td>\n",
       "      <td>249918.00</td>\n",
       "      <td>540003.0</td>\n",
       "    </tr>\n",
       "    <tr>\n",
       "      <th>Rice, paddy</th>\n",
       "      <td>4642.0</td>\n",
       "      <td>39028.446790</td>\n",
       "      <td>19540.799363</td>\n",
       "      <td>2034.0</td>\n",
       "      <td>26087.0</td>\n",
       "      <td>34413.5</td>\n",
       "      <td>49558.75</td>\n",
       "      <td>106827.0</td>\n",
       "    </tr>\n",
       "    <tr>\n",
       "      <th>Sorghum</th>\n",
       "      <td>4185.0</td>\n",
       "      <td>19868.558901</td>\n",
       "      <td>19402.656876</td>\n",
       "      <td>0.0</td>\n",
       "      <td>8006.0</td>\n",
       "      <td>13345.0</td>\n",
       "      <td>27226.00</td>\n",
       "      <td>255800.0</td>\n",
       "    </tr>\n",
       "    <tr>\n",
       "      <th>Soybeans</th>\n",
       "      <td>4210.0</td>\n",
       "      <td>16481.857720</td>\n",
       "      <td>7541.672030</td>\n",
       "      <td>50.0</td>\n",
       "      <td>10628.0</td>\n",
       "      <td>15318.0</td>\n",
       "      <td>21632.00</td>\n",
       "      <td>43999.0</td>\n",
       "    </tr>\n",
       "    <tr>\n",
       "      <th>Sweet potatoes</th>\n",
       "      <td>4191.0</td>\n",
       "      <td>114685.757576</td>\n",
       "      <td>73407.536910</td>\n",
       "      <td>2211.0</td>\n",
       "      <td>64649.5</td>\n",
       "      <td>96481.0</td>\n",
       "      <td>154867.00</td>\n",
       "      <td>400000.0</td>\n",
       "    </tr>\n",
       "    <tr>\n",
       "      <th>Wheat</th>\n",
       "      <td>5117.0</td>\n",
       "      <td>29639.611296</td>\n",
       "      <td>18052.981749</td>\n",
       "      <td>0.0</td>\n",
       "      <td>18249.0</td>\n",
       "      <td>25000.0</td>\n",
       "      <td>36212.00</td>\n",
       "      <td>106677.0</td>\n",
       "    </tr>\n",
       "    <tr>\n",
       "      <th>Yams</th>\n",
       "      <td>1506.0</td>\n",
       "      <td>98726.029880</td>\n",
       "      <td>53791.395887</td>\n",
       "      <td>5690.0</td>\n",
       "      <td>58904.0</td>\n",
       "      <td>91823.0</td>\n",
       "      <td>118720.25</td>\n",
       "      <td>296789.0</td>\n",
       "    </tr>\n",
       "  </tbody>\n",
       "</table>\n",
       "</div>"
      ],
      "text/plain": [
       "                     Crop_Yield                                        \\\n",
       "                          count           mean           std      min   \n",
       "Item.1                                                                  \n",
       "Cassava                  3199.0  136255.098468  83429.378424  11024.0   \n",
       "Maize                    5867.0   37600.554287  32472.839845    343.0   \n",
       "Plantains and others     1021.0   97509.796278  73461.464024    286.0   \n",
       "Potatoes                 5980.0  194663.174080  94952.141665   8052.0   \n",
       "Rice, paddy              4642.0   39028.446790  19540.799363   2034.0   \n",
       "Sorghum                  4185.0   19868.558901  19402.656876      0.0   \n",
       "Soybeans                 4210.0   16481.857720   7541.672030     50.0   \n",
       "Sweet potatoes           4191.0  114685.757576  73407.536910   2211.0   \n",
       "Wheat                    5117.0   29639.611296  18052.981749      0.0   \n",
       "Yams                     1506.0   98726.029880  53791.395887   5690.0   \n",
       "\n",
       "                                                               \n",
       "                           25%       50%        75%       max  \n",
       "Item.1                                                         \n",
       "Cassava                75821.0  123077.0  171429.00  385818.0  \n",
       "Maize                  16807.0   25726.0   48987.00  404127.0  \n",
       "Plantains and others   51333.0   83753.0  118132.00  554855.0  \n",
       "Potatoes              131320.5  175712.0  249918.00  540003.0  \n",
       "Rice, paddy            26087.0   34413.5   49558.75  106827.0  \n",
       "Sorghum                 8006.0   13345.0   27226.00  255800.0  \n",
       "Soybeans               10628.0   15318.0   21632.00   43999.0  \n",
       "Sweet potatoes         64649.5   96481.0  154867.00  400000.0  \n",
       "Wheat                  18249.0   25000.0   36212.00  106677.0  \n",
       "Yams                   58904.0   91823.0  118720.25  296789.0  "
      ]
     },
     "execution_count": 18,
     "metadata": {},
     "output_type": "execute_result"
    }
   ],
   "source": [
    "df=data[['Item.1','Crop_Yield']].groupby('Item.1').describe()\n",
    "df"
   ]
  },
  {
   "cell_type": "code",
   "execution_count": 19,
   "id": "f4ce20a2",
   "metadata": {},
   "outputs": [
    {
     "data": {
      "image/png": "[encoded data removed]",
      "text/plain": [
       "<Figure size 720x360 with 1 Axes>"
      ]
     },
     "metadata": {},
     "output_type": "display_data"
    }
   ],
   "source": [
    "df1=data[['Item.1','Crop_Yield']].groupby('Item.1').mean()\n",
    "df1.plot(kind='bar')\n",
    "plt.title('Mean yield of crops')\n",
    "plt.xticks(rotation=0)\n",
    "plt.xlabel('crops')\n",
    "plt.ylabel('Mean yield')\n",
    "plt.show()"
   ]
  },
  {
   "cell_type": "code",
   "execution_count": 20,
   "id": "fbc20190",
   "metadata": {},
   "outputs": [
    {
     "data": {
      "text/plain": [
       "<AxesSubplot:>"
      ]
     },
     "execution_count": 20,
     "metadata": {},
     "output_type": "execute_result"
    },
    {
     "data": {
      "image/png": "[encoded data removed]",
      "text/plain": [
       "<Figure size 1440x720 with 2 Axes>"
      ]
     },
     "metadata": {},
     "output_type": "display_data"
    }
   ],
   "source": [
    "df2=data[['Year','Value_pesticide','avg_rain','avg_temp','Crop_Yield']]\n",
    "corrmatrix=df2.corr()\n",
    "plt.subplots(figsize=(20,10))\n",
    "sns.heatmap(corrmatrix,vmin=-0.2,vmax=0.4,annot=True,linewidths=0.2,cmap='YlGnBu')"
   ]
  },
  {
   "cell_type": "code",
   "execution_count": 21,
   "id": "3056caf4",
   "metadata": {},
   "outputs": [
    {
     "data": {
      "text/plain": [
       "<AxesSubplot:>"
      ]
     },
     "execution_count": 21,
     "metadata": {},
     "output_type": "execute_result"
    },
    {
     "data": {
      "image/png": "[encoded data removed]",
      "text/plain": [
       "<Figure size 1440x720 with 2 Axes>"
      ]
     },
     "metadata": {},
     "output_type": "display_data"
    }
   ],
   "source": [
    "corrmatrix=data.corr()\n",
    "plt.subplots(figsize=(20,10))\n",
    "sns.heatmap(corrmatrix,vmin=-0.5,vmax=1,annot=True,linewidths=0.2,cmap='YlGnBu')"
   ]
  },
  {
   "cell_type": "code",
   "execution_count": 22,
   "id": "4526fec4",
   "metadata": {},
   "outputs": [
    {
     "data": {
      "text/html": [
       "<div>\n",
       "<style scoped>\n",
       "    .dataframe tbody tr th:only-of-type {\n",
       "        vertical-align: middle;\n",
       "    }\n",
       "\n",
       "    .dataframe tbody tr th {\n",
       "        vertical-align: top;\n",
       "    }\n",
       "\n",
       "    .dataframe thead th {\n",
       "        text-align: right;\n",
       "    }\n",
       "</style>\n",
       "<table border=\"1\" class=\"dataframe\">\n",
       "  <thead>\n",
       "    <tr style=\"text-align: right;\">\n",
       "      <th></th>\n",
       "      <th></th>\n",
       "      <th>Crop_Yield</th>\n",
       "    </tr>\n",
       "    <tr>\n",
       "      <th>Year</th>\n",
       "      <th>Item.1</th>\n",
       "      <th></th>\n",
       "    </tr>\n",
       "  </thead>\n",
       "  <tbody>\n",
       "    <tr>\n",
       "      <th rowspan=\"5\" valign=\"top\">1990</th>\n",
       "      <th>Cassava</th>\n",
       "      <td>112592.475806</td>\n",
       "    </tr>\n",
       "    <tr>\n",
       "      <th>Maize</th>\n",
       "      <td>28035.612440</td>\n",
       "    </tr>\n",
       "    <tr>\n",
       "      <th>Plantains and others</th>\n",
       "      <td>93563.473684</td>\n",
       "    </tr>\n",
       "    <tr>\n",
       "      <th>Potatoes</th>\n",
       "      <td>168738.379147</td>\n",
       "    </tr>\n",
       "    <tr>\n",
       "      <th>Rice, paddy</th>\n",
       "      <td>33961.653409</td>\n",
       "    </tr>\n",
       "    <tr>\n",
       "      <th>...</th>\n",
       "      <th>...</th>\n",
       "      <td>...</td>\n",
       "    </tr>\n",
       "    <tr>\n",
       "      <th rowspan=\"5\" valign=\"top\">2016</th>\n",
       "      <th>Sorghum</th>\n",
       "      <td>25014.604167</td>\n",
       "    </tr>\n",
       "    <tr>\n",
       "      <th>Soybeans</th>\n",
       "      <td>17864.867470</td>\n",
       "    </tr>\n",
       "    <tr>\n",
       "      <th>Sweet potatoes</th>\n",
       "      <td>112912.700000</td>\n",
       "    </tr>\n",
       "    <tr>\n",
       "      <th>Wheat</th>\n",
       "      <td>34428.142857</td>\n",
       "    </tr>\n",
       "    <tr>\n",
       "      <th>Yams</th>\n",
       "      <td>92362.341463</td>\n",
       "    </tr>\n",
       "  </tbody>\n",
       "</table>\n",
       "<p>270 rows × 1 columns</p>\n",
       "</div>"
      ],
      "text/plain": [
       "                              Crop_Yield\n",
       "Year Item.1                             \n",
       "1990 Cassava               112592.475806\n",
       "     Maize                  28035.612440\n",
       "     Plantains and others   93563.473684\n",
       "     Potatoes              168738.379147\n",
       "     Rice, paddy            33961.653409\n",
       "...                                  ...\n",
       "2016 Sorghum                25014.604167\n",
       "     Soybeans               17864.867470\n",
       "     Sweet potatoes        112912.700000\n",
       "     Wheat                  34428.142857\n",
       "     Yams                   92362.341463\n",
       "\n",
       "[270 rows x 1 columns]"
      ]
     },
     "execution_count": 22,
     "metadata": {},
     "output_type": "execute_result"
    }
   ],
   "source": [
    "df3=data[['Year','Item.1','Crop_Yield']].groupby(['Year','Item.1']).mean()\n",
    "df3"
   ]
  },
  {
   "cell_type": "code",
   "execution_count": 23,
   "id": "a2443722",
   "metadata": {},
   "outputs": [
    {
     "data": {
      "text/html": [
       "<div>\n",
       "<style scoped>\n",
       "    .dataframe tbody tr th:only-of-type {\n",
       "        vertical-align: middle;\n",
       "    }\n",
       "\n",
       "    .dataframe tbody tr th {\n",
       "        vertical-align: top;\n",
       "    }\n",
       "\n",
       "    .dataframe thead th {\n",
       "        text-align: right;\n",
       "    }\n",
       "</style>\n",
       "<table border=\"1\" class=\"dataframe\">\n",
       "  <thead>\n",
       "    <tr style=\"text-align: right;\">\n",
       "      <th></th>\n",
       "      <th></th>\n",
       "      <th></th>\n",
       "      <th>Crop_Yield</th>\n",
       "    </tr>\n",
       "    <tr>\n",
       "      <th>Year</th>\n",
       "      <th>Item.1</th>\n",
       "      <th>country</th>\n",
       "      <th></th>\n",
       "    </tr>\n",
       "  </thead>\n",
       "  <tbody>\n",
       "    <tr>\n",
       "      <th rowspan=\"5\" valign=\"top\">1990</th>\n",
       "      <th rowspan=\"5\" valign=\"top\">Cassava</th>\n",
       "      <th>Angola</th>\n",
       "      <td>41177.0</td>\n",
       "    </tr>\n",
       "    <tr>\n",
       "      <th>Antigua and Barbuda</th>\n",
       "      <td>50000.0</td>\n",
       "    </tr>\n",
       "    <tr>\n",
       "      <th>Argentina</th>\n",
       "      <td>100000.0</td>\n",
       "    </tr>\n",
       "    <tr>\n",
       "      <th>Bahamas</th>\n",
       "      <td>106667.0</td>\n",
       "    </tr>\n",
       "    <tr>\n",
       "      <th>Barbados</th>\n",
       "      <td>164286.0</td>\n",
       "    </tr>\n",
       "    <tr>\n",
       "      <th>...</th>\n",
       "      <th>...</th>\n",
       "      <th>...</th>\n",
       "      <td>...</td>\n",
       "    </tr>\n",
       "    <tr>\n",
       "      <th rowspan=\"5\" valign=\"top\">2016</th>\n",
       "      <th rowspan=\"5\" valign=\"top\">Yams</th>\n",
       "      <th>Togo</th>\n",
       "      <td>89385.0</td>\n",
       "    </tr>\n",
       "    <tr>\n",
       "      <th>Tonga</th>\n",
       "      <td>136843.0</td>\n",
       "    </tr>\n",
       "    <tr>\n",
       "      <th>Trinidad and Tobago</th>\n",
       "      <td>28642.0</td>\n",
       "    </tr>\n",
       "    <tr>\n",
       "      <th>United Republic of Tanzania</th>\n",
       "      <td>63355.0</td>\n",
       "    </tr>\n",
       "    <tr>\n",
       "      <th>Venezuela (Bolivarian Republic of)</th>\n",
       "      <td>96224.0</td>\n",
       "    </tr>\n",
       "  </tbody>\n",
       "</table>\n",
       "<p>24153 rows × 1 columns</p>\n",
       "</div>"
      ],
      "text/plain": [
       "                                                 Crop_Yield\n",
       "Year Item.1  country                                       \n",
       "1990 Cassava Angola                                 41177.0\n",
       "             Antigua and Barbuda                    50000.0\n",
       "             Argentina                             100000.0\n",
       "             Bahamas                               106667.0\n",
       "             Barbados                              164286.0\n",
       "...                                                     ...\n",
       "2016 Yams    Togo                                   89385.0\n",
       "             Tonga                                 136843.0\n",
       "             Trinidad and Tobago                    28642.0\n",
       "             United Republic of Tanzania            63355.0\n",
       "             Venezuela (Bolivarian Republic of)     96224.0\n",
       "\n",
       "[24153 rows x 1 columns]"
      ]
     },
     "execution_count": 23,
     "metadata": {},
     "output_type": "execute_result"
    }
   ],
   "source": [
    "df3=data[['Year','Item.1','country','Crop_Yield']].groupby(['Year','Item.1','country']).mean()\n",
    "df3"
   ]
  },
  {
   "cell_type": "code",
   "execution_count": 24,
   "id": "1d97b010",
   "metadata": {},
   "outputs": [
    {
     "data": {
      "text/plain": [
       "country\n",
       "India             343138692\n",
       "Brazil            177721771\n",
       "Mexico            139484776\n",
       "Japan             132677007\n",
       "Australia         117481716\n",
       "Pakistan           78440921\n",
       "Indonesia          74236746\n",
       "United Kingdom     59343058\n",
       "Turkey             56221609\n",
       "Spain              51118449\n",
       "Name: Crop_Yield, dtype: int64"
      ]
     },
     "execution_count": 24,
     "metadata": {},
     "output_type": "execute_result"
    }
   ],
   "source": [
    "data.groupby(['country'],sort=True)['Crop_Yield'].sum().nlargest(10)"
   ]
  },
  {
   "cell_type": "code",
   "execution_count": 25,
   "id": "728624fd",
   "metadata": {},
   "outputs": [
    {
     "data": {
      "text/plain": [
       "<AxesSubplot:xlabel='country'>"
      ]
     },
     "execution_count": 25,
     "metadata": {},
     "output_type": "execute_result"
    },
    {
     "data": {
      "image/png": "[encoded data removed]",
      "text/plain": [
       "<Figure size 720x360 with 1 Axes>"
      ]
     },
     "metadata": {},
     "output_type": "display_data"
    }
   ],
   "source": [
    "data.groupby(['country'],sort=True)['Crop_Yield'].sum().nlargest(10).plot(kind='bar')"
   ]
  },
  {
   "cell_type": "code",
   "execution_count": 26,
   "id": "d7688f8e",
   "metadata": {},
   "outputs": [
    {
     "data": {
      "text/plain": [
       "Item.1          country       \n",
       "Cassava         India             149367624\n",
       "Potatoes        India              96599064\n",
       "                Brazil             52709034\n",
       "                United Kingdom     49984780\n",
       "                Australia          48948581\n",
       "Sweet potatoes  India              46655559\n",
       "Potatoes        Japan              45854688\n",
       "                Mexico             44912455\n",
       "Sweet potatoes  Australia          38665806\n",
       "                Mexico             38272606\n",
       "Name: Crop_Yield, dtype: int64"
      ]
     },
     "execution_count": 26,
     "metadata": {},
     "output_type": "execute_result"
    }
   ],
   "source": [
    "data.groupby(['Item.1','country'],sort=True)['Crop_Yield'].sum().nlargest(10)"
   ]
  },
  {
   "cell_type": "code",
   "execution_count": 27,
   "id": "027eaa59",
   "metadata": {},
   "outputs": [
    {
     "data": {
      "text/plain": [
       "<AxesSubplot:xlabel='Item.1,country'>"
      ]
     },
     "execution_count": 27,
     "metadata": {},
     "output_type": "execute_result"
    },
    {
     "data": {
      "image/png": "[encoded data removed]",
      "text/plain": [
       "<Figure size 720x360 with 1 Axes>"
      ]
     },
     "metadata": {},
     "output_type": "display_data"
    }
   ],
   "source": [
    "data.groupby(['Item.1','country'],sort=True)['Crop_Yield'].sum().nlargest(10).plot(kind='bar')"
   ]
  },
  {
   "cell_type": "markdown",
   "id": "5994703f",
   "metadata": {},
   "source": [
    "### Handling Duplicates"
   ]
  },
  {
   "cell_type": "code",
   "execution_count": 28,
   "id": "6a862fd3",
   "metadata": {},
   "outputs": [],
   "source": [
    "data.drop_duplicates(inplace= True)"
   ]
  },
  {
   "cell_type": "code",
   "execution_count": 29,
   "id": "e1b2270a",
   "metadata": {},
   "outputs": [
    {
     "data": {
      "text/plain": [
       "0"
      ]
     },
     "execution_count": 29,
     "metadata": {},
     "output_type": "execute_result"
    }
   ],
   "source": [
    "data.duplicated().sum()"
   ]
  },
  {
   "cell_type": "markdown",
   "id": "f0b46bfb",
   "metadata": {},
   "source": [
    "### Handling Null Values"
   ]
  },
  {
   "cell_type": "code",
   "execution_count": 30,
   "id": "995fd137",
   "metadata": {},
   "outputs": [],
   "source": [
    "pd.set_option('display.max_rows', None)"
   ]
  },
  {
   "cell_type": "code",
   "execution_count": 31,
   "id": "373c7cc5",
   "metadata": {},
   "outputs": [],
   "source": [
    "#<input type=\"text\" name=\"country\" value=\"\" required placeholder=\"Enter a Country Name\"><br><br>"
   ]
  },
  {
   "cell_type": "code",
   "execution_count": 32,
   "id": "5868b145",
   "metadata": {
    "scrolled": true
   },
   "outputs": [],
   "source": [
    "#data['country'].unique()"
   ]
  },
  {
   "cell_type": "code",
   "execution_count": 33,
   "id": "fe5508d5",
   "metadata": {},
   "outputs": [],
   "source": [
    "count = data['country'].value_counts().rename_axis('country').reset_index(name='counts')\n"
   ]
  },
  {
   "cell_type": "code",
   "execution_count": 34,
   "id": "82fd87bb",
   "metadata": {},
   "outputs": [],
   "source": [
    "Unique_Country = data['country'].unique()\n",
    "Col1 = 'avg_temp'\n",
    "\n",
    "NullCount = []\n",
    "for i in Unique_Country:\n",
    "    s = data[data['country']==i][Col1].isnull().sum()\n",
    "    NullCount.append(s)\n",
    "\n",
    "df3 = pd.DataFrame({'country': Unique_Country,\n",
    "              'Number of NaN Values in Temp': NullCount})\n",
    "df3 = df3[df3['Number of NaN Values in Temp']!=0]\n"
   ]
  },
  {
   "cell_type": "code",
   "execution_count": 35,
   "id": "33a88188",
   "metadata": {},
   "outputs": [],
   "source": [
    "df4=df3.merge(count)"
   ]
  },
  {
   "cell_type": "code",
   "execution_count": 36,
   "id": "3fb05034",
   "metadata": {
    "scrolled": true
   },
   "outputs": [],
   "source": [
    "data1=df4[df4['Number of NaN Values in Temp']==df4['counts']]\n"
   ]
  },
  {
   "cell_type": "code",
   "execution_count": 37,
   "id": "7fe21b48",
   "metadata": {
    "scrolled": true
   },
   "outputs": [],
   "source": [
    "Unique_Country = data['country'].unique()\n",
    "Col1 = 'avg_rain'\n",
    "\n",
    "NullCount = []\n",
    "for i in Unique_Country:\n",
    "    s = data[data['country']==i][Col1].isnull().sum()\n",
    "    NullCount.append(s)\n",
    "\n",
    "df2 = pd.DataFrame({'country': Unique_Country,\n",
    "              'Number of NaN Values in Rain': NullCount})\n",
    "df2 = df2[df2['Number of NaN Values in Rain']!=0]"
   ]
  },
  {
   "cell_type": "code",
   "execution_count": 38,
   "id": "f57ad280",
   "metadata": {},
   "outputs": [],
   "source": [
    "df5= df4.merge(df2)\n"
   ]
  },
  {
   "cell_type": "code",
   "execution_count": 39,
   "id": "d4d26721",
   "metadata": {},
   "outputs": [
    {
     "data": {
      "text/plain": [
       "64"
      ]
     },
     "execution_count": 39,
     "metadata": {},
     "output_type": "execute_result"
    }
   ],
   "source": [
    "data.groupby(['country'])['avg_temp'].median().isna().sum()"
   ]
  },
  {
   "cell_type": "code",
   "execution_count": 40,
   "id": "e586c8cb",
   "metadata": {
    "scrolled": true
   },
   "outputs": [],
   "source": [
    "data2=df5[df5['Number of NaN Values in Rain']==df5['counts']]\n"
   ]
  },
  {
   "cell_type": "code",
   "execution_count": 41,
   "id": "306159ec",
   "metadata": {
    "scrolled": true
   },
   "outputs": [
    {
     "data": {
      "text/plain": [
       "33"
      ]
     },
     "execution_count": 41,
     "metadata": {},
     "output_type": "execute_result"
    }
   ],
   "source": [
    "data.groupby(['country'])['avg_rain'].median().isna().sum()"
   ]
  },
  {
   "cell_type": "code",
   "execution_count": 42,
   "id": "96f1c885",
   "metadata": {},
   "outputs": [
    {
     "name": "stderr",
     "output_type": "stream",
     "text": [
      "C:\\Users\\vivek\\anaconda3\\lib\\site-packages\\seaborn\\distributions.py:2619: FutureWarning: `distplot` is a deprecated function and will be removed in a future version. Please adapt your code to use either `displot` (a figure-level function with similar flexibility) or `histplot` (an axes-level function for histograms).\n",
      "  warnings.warn(msg, FutureWarning)\n"
     ]
    },
    {
     "data": {
      "image/png": "[encoded data removed]",
      "text/plain": [
       "<Figure size 720x360 with 1 Axes>"
      ]
     },
     "metadata": {},
     "output_type": "display_data"
    }
   ],
   "source": [
    "sns.distplot(data['avg_temp']) \n",
    "plt.show()"
   ]
  },
  {
   "cell_type": "code",
   "execution_count": 43,
   "id": "db386a57",
   "metadata": {},
   "outputs": [],
   "source": [
    "data['avg_temp'] = data['avg_temp'].fillna(data.groupby('country')['avg_temp'].transform('median'))"
   ]
  },
  {
   "cell_type": "code",
   "execution_count": 44,
   "id": "115bd329",
   "metadata": {},
   "outputs": [
    {
     "name": "stderr",
     "output_type": "stream",
     "text": [
      "C:\\Users\\vivek\\anaconda3\\lib\\site-packages\\seaborn\\distributions.py:2619: FutureWarning: `distplot` is a deprecated function and will be removed in a future version. Please adapt your code to use either `displot` (a figure-level function with similar flexibility) or `histplot` (an axes-level function for histograms).\n",
      "  warnings.warn(msg, FutureWarning)\n"
     ]
    },
    {
     "data": {
      "image/png": "[encoded data removed]",
      "text/plain": [
       "<Figure size 720x360 with 1 Axes>"
      ]
     },
     "metadata": {},
     "output_type": "display_data"
    }
   ],
   "source": [
    "sns.distplot(data['avg_rain']) \n",
    "plt.show()"
   ]
  },
  {
   "cell_type": "code",
   "execution_count": 45,
   "id": "dbaf7f45",
   "metadata": {},
   "outputs": [],
   "source": [
    "data['avg_rain'] = data['avg_rain'].fillna(data.groupby('country')['avg_rain'].transform('median'))"
   ]
  },
  {
   "cell_type": "code",
   "execution_count": 46,
   "id": "da35f4e9",
   "metadata": {
    "scrolled": true
   },
   "outputs": [
    {
     "data": {
      "text/plain": [
       "country               0\n",
       "Area_Code             0\n",
       "Year                  0\n",
       "Year Code             0\n",
       "Element               0\n",
       "Domain                0\n",
       "Item                  0\n",
       "Unit_pesticide        0\n",
       "Value_pesticide       0\n",
       "avg_rain           4465\n",
       "avg_temp           8358\n",
       "crop Code             0\n",
       "Domain_1              0\n",
       "Element Code          0\n",
       "Element_1             0\n",
       "Item_Code             0\n",
       "Item.1                0\n",
       "Unit_crop             0\n",
       "Crop_Yield            0\n",
       "dtype: int64"
      ]
     },
     "execution_count": 46,
     "metadata": {},
     "output_type": "execute_result"
    }
   ],
   "source": [
    "data.isna().sum()"
   ]
  },
  {
   "cell_type": "markdown",
   "id": "7cdbeb7c",
   "metadata": {},
   "source": [
    "the rest of the missing values is handled after collecting data from global sites"
   ]
  },
  {
   "cell_type": "code",
   "execution_count": 47,
   "id": "d48b0ec7",
   "metadata": {
    "scrolled": true
   },
   "outputs": [
    {
     "data": {
      "text/plain": [
       "(37515, 19)"
      ]
     },
     "execution_count": 47,
     "metadata": {},
     "output_type": "execute_result"
    }
   ],
   "source": [
    "data.shape"
   ]
  },
  {
   "cell_type": "code",
   "execution_count": 48,
   "id": "b26dcb15",
   "metadata": {},
   "outputs": [],
   "source": [
    "data1=data.copy()"
   ]
  },
  {
   "cell_type": "code",
   "execution_count": 49,
   "id": "b78be880",
   "metadata": {
    "scrolled": true
   },
   "outputs": [
    {
     "name": "stdout",
     "output_type": "stream",
     "text": [
      "(1782, 4)\n"
     ]
    },
    {
     "data": {
      "text/html": [
       "<div>\n",
       "<style scoped>\n",
       "    .dataframe tbody tr th:only-of-type {\n",
       "        vertical-align: middle;\n",
       "    }\n",
       "\n",
       "    .dataframe tbody tr th {\n",
       "        vertical-align: top;\n",
       "    }\n",
       "\n",
       "    .dataframe thead th {\n",
       "        text-align: right;\n",
       "    }\n",
       "</style>\n",
       "<table border=\"1\" class=\"dataframe\">\n",
       "  <thead>\n",
       "    <tr style=\"text-align: right;\">\n",
       "      <th></th>\n",
       "      <th>country</th>\n",
       "      <th>Year</th>\n",
       "      <th>avg_temp</th>\n",
       "      <th>avg_rain</th>\n",
       "    </tr>\n",
       "  </thead>\n",
       "  <tbody>\n",
       "    <tr>\n",
       "      <th>0</th>\n",
       "      <td>Antigua and Barbuda</td>\n",
       "      <td>1990</td>\n",
       "      <td>26.96</td>\n",
       "      <td>NaN</td>\n",
       "    </tr>\n",
       "    <tr>\n",
       "      <th>1</th>\n",
       "      <td>Antigua and Barbuda</td>\n",
       "      <td>1991</td>\n",
       "      <td>27.03</td>\n",
       "      <td>NaN</td>\n",
       "    </tr>\n",
       "    <tr>\n",
       "      <th>2</th>\n",
       "      <td>Antigua and Barbuda</td>\n",
       "      <td>1992</td>\n",
       "      <td>26.93</td>\n",
       "      <td>NaN</td>\n",
       "    </tr>\n",
       "    <tr>\n",
       "      <th>3</th>\n",
       "      <td>Antigua and Barbuda</td>\n",
       "      <td>1993</td>\n",
       "      <td>27.19</td>\n",
       "      <td>NaN</td>\n",
       "    </tr>\n",
       "    <tr>\n",
       "      <th>4</th>\n",
       "      <td>Antigua and Barbuda</td>\n",
       "      <td>1994</td>\n",
       "      <td>26.99</td>\n",
       "      <td>NaN</td>\n",
       "    </tr>\n",
       "  </tbody>\n",
       "</table>\n",
       "</div>"
      ],
      "text/plain": [
       "               country  Year  avg_temp  avg_rain\n",
       "0  Antigua and Barbuda  1990     26.96       NaN\n",
       "1  Antigua and Barbuda  1991     27.03       NaN\n",
       "2  Antigua and Barbuda  1992     26.93       NaN\n",
       "3  Antigua and Barbuda  1993     27.19       NaN\n",
       "4  Antigua and Barbuda  1994     26.99       NaN"
      ]
     },
     "execution_count": 49,
     "metadata": {},
     "output_type": "execute_result"
    }
   ],
   "source": [
    "new_df= pd.read_excel('avg_temp_rain.xlsx')\n",
    "print(new_df.shape)\n",
    "new_df.head()"
   ]
  },
  {
   "cell_type": "code",
   "execution_count": 50,
   "id": "fd71444f",
   "metadata": {
    "scrolled": true
   },
   "outputs": [
    {
     "data": {
      "text/plain": [
       "country       67\n",
       "Year          27\n",
       "avg_temp    1030\n",
       "avg_rain      30\n",
       "dtype: int64"
      ]
     },
     "execution_count": 50,
     "metadata": {},
     "output_type": "execute_result"
    }
   ],
   "source": [
    "new_df.nunique()"
   ]
  },
  {
   "cell_type": "code",
   "execution_count": 51,
   "id": "63afca50",
   "metadata": {},
   "outputs": [
    {
     "data": {
      "text/html": [
       "<div>\n",
       "<style scoped>\n",
       "    .dataframe tbody tr th:only-of-type {\n",
       "        vertical-align: middle;\n",
       "    }\n",
       "\n",
       "    .dataframe tbody tr th {\n",
       "        vertical-align: top;\n",
       "    }\n",
       "\n",
       "    .dataframe thead th {\n",
       "        text-align: right;\n",
       "    }\n",
       "</style>\n",
       "<table border=\"1\" class=\"dataframe\">\n",
       "  <thead>\n",
       "    <tr style=\"text-align: right;\">\n",
       "      <th></th>\n",
       "      <th>country</th>\n",
       "      <th>Area_Code</th>\n",
       "      <th>Year</th>\n",
       "      <th>Year Code</th>\n",
       "      <th>Element</th>\n",
       "      <th>Domain</th>\n",
       "      <th>Item</th>\n",
       "      <th>Unit_pesticide</th>\n",
       "      <th>Value_pesticide</th>\n",
       "      <th>avg_rain_x</th>\n",
       "      <th>...</th>\n",
       "      <th>crop Code</th>\n",
       "      <th>Domain_1</th>\n",
       "      <th>Element Code</th>\n",
       "      <th>Element_1</th>\n",
       "      <th>Item_Code</th>\n",
       "      <th>Item.1</th>\n",
       "      <th>Unit_crop</th>\n",
       "      <th>Crop_Yield</th>\n",
       "      <th>avg_temp_y</th>\n",
       "      <th>avg_rain_y</th>\n",
       "    </tr>\n",
       "  </thead>\n",
       "  <tbody>\n",
       "    <tr>\n",
       "      <th>0</th>\n",
       "      <td>Algeria</td>\n",
       "      <td>4</td>\n",
       "      <td>1990</td>\n",
       "      <td>1990</td>\n",
       "      <td>Use</td>\n",
       "      <td>Pesticides Use</td>\n",
       "      <td>Pesticides (total)</td>\n",
       "      <td>tonnes of active ingredients</td>\n",
       "      <td>1828.92</td>\n",
       "      <td>89.0</td>\n",
       "      <td>...</td>\n",
       "      <td>QC</td>\n",
       "      <td>Crops</td>\n",
       "      <td>5419</td>\n",
       "      <td>Yield</td>\n",
       "      <td>56</td>\n",
       "      <td>Maize</td>\n",
       "      <td>hg/ha</td>\n",
       "      <td>16500</td>\n",
       "      <td>NaN</td>\n",
       "      <td>NaN</td>\n",
       "    </tr>\n",
       "    <tr>\n",
       "      <th>1</th>\n",
       "      <td>Algeria</td>\n",
       "      <td>4</td>\n",
       "      <td>1990</td>\n",
       "      <td>1990</td>\n",
       "      <td>Use</td>\n",
       "      <td>Pesticides Use</td>\n",
       "      <td>Pesticides (total)</td>\n",
       "      <td>tonnes of active ingredients</td>\n",
       "      <td>1828.92</td>\n",
       "      <td>89.0</td>\n",
       "      <td>...</td>\n",
       "      <td>QC</td>\n",
       "      <td>Crops</td>\n",
       "      <td>5419</td>\n",
       "      <td>Yield</td>\n",
       "      <td>116</td>\n",
       "      <td>Potatoes</td>\n",
       "      <td>hg/ha</td>\n",
       "      <td>78936</td>\n",
       "      <td>NaN</td>\n",
       "      <td>NaN</td>\n",
       "    </tr>\n",
       "    <tr>\n",
       "      <th>2</th>\n",
       "      <td>Algeria</td>\n",
       "      <td>4</td>\n",
       "      <td>1990</td>\n",
       "      <td>1990</td>\n",
       "      <td>Use</td>\n",
       "      <td>Pesticides Use</td>\n",
       "      <td>Pesticides (total)</td>\n",
       "      <td>tonnes of active ingredients</td>\n",
       "      <td>1828.92</td>\n",
       "      <td>89.0</td>\n",
       "      <td>...</td>\n",
       "      <td>QC</td>\n",
       "      <td>Crops</td>\n",
       "      <td>5419</td>\n",
       "      <td>Yield</td>\n",
       "      <td>27</td>\n",
       "      <td>Rice, paddy</td>\n",
       "      <td>hg/ha</td>\n",
       "      <td>28000</td>\n",
       "      <td>NaN</td>\n",
       "      <td>NaN</td>\n",
       "    </tr>\n",
       "    <tr>\n",
       "      <th>3</th>\n",
       "      <td>Algeria</td>\n",
       "      <td>4</td>\n",
       "      <td>1990</td>\n",
       "      <td>1990</td>\n",
       "      <td>Use</td>\n",
       "      <td>Pesticides Use</td>\n",
       "      <td>Pesticides (total)</td>\n",
       "      <td>tonnes of active ingredients</td>\n",
       "      <td>1828.92</td>\n",
       "      <td>89.0</td>\n",
       "      <td>...</td>\n",
       "      <td>QC</td>\n",
       "      <td>Crops</td>\n",
       "      <td>5419</td>\n",
       "      <td>Yield</td>\n",
       "      <td>83</td>\n",
       "      <td>Sorghum</td>\n",
       "      <td>hg/ha</td>\n",
       "      <td>16571</td>\n",
       "      <td>NaN</td>\n",
       "      <td>NaN</td>\n",
       "    </tr>\n",
       "    <tr>\n",
       "      <th>4</th>\n",
       "      <td>Algeria</td>\n",
       "      <td>4</td>\n",
       "      <td>1990</td>\n",
       "      <td>1990</td>\n",
       "      <td>Use</td>\n",
       "      <td>Pesticides Use</td>\n",
       "      <td>Pesticides (total)</td>\n",
       "      <td>tonnes of active ingredients</td>\n",
       "      <td>1828.92</td>\n",
       "      <td>89.0</td>\n",
       "      <td>...</td>\n",
       "      <td>QC</td>\n",
       "      <td>Crops</td>\n",
       "      <td>5419</td>\n",
       "      <td>Yield</td>\n",
       "      <td>15</td>\n",
       "      <td>Wheat</td>\n",
       "      <td>hg/ha</td>\n",
       "      <td>6315</td>\n",
       "      <td>NaN</td>\n",
       "      <td>NaN</td>\n",
       "    </tr>\n",
       "  </tbody>\n",
       "</table>\n",
       "<p>5 rows × 21 columns</p>\n",
       "</div>"
      ],
      "text/plain": [
       "   country  Area_Code  Year  Year Code Element          Domain  \\\n",
       "0  Algeria          4  1990       1990     Use  Pesticides Use   \n",
       "1  Algeria          4  1990       1990     Use  Pesticides Use   \n",
       "2  Algeria          4  1990       1990     Use  Pesticides Use   \n",
       "3  Algeria          4  1990       1990     Use  Pesticides Use   \n",
       "4  Algeria          4  1990       1990     Use  Pesticides Use   \n",
       "\n",
       "                 Item                Unit_pesticide  Value_pesticide  \\\n",
       "0  Pesticides (total)  tonnes of active ingredients          1828.92   \n",
       "1  Pesticides (total)  tonnes of active ingredients          1828.92   \n",
       "2  Pesticides (total)  tonnes of active ingredients          1828.92   \n",
       "3  Pesticides (total)  tonnes of active ingredients          1828.92   \n",
       "4  Pesticides (total)  tonnes of active ingredients          1828.92   \n",
       "\n",
       "   avg_rain_x  ...  crop Code Domain_1 Element Code  Element_1 Item_Code  \\\n",
       "0        89.0  ...         QC    Crops         5419      Yield        56   \n",
       "1        89.0  ...         QC    Crops         5419      Yield       116   \n",
       "2        89.0  ...         QC    Crops         5419      Yield        27   \n",
       "3        89.0  ...         QC    Crops         5419      Yield        83   \n",
       "4        89.0  ...         QC    Crops         5419      Yield        15   \n",
       "\n",
       "        Item.1 Unit_crop Crop_Yield  avg_temp_y  avg_rain_y  \n",
       "0        Maize     hg/ha      16500         NaN         NaN  \n",
       "1     Potatoes     hg/ha      78936         NaN         NaN  \n",
       "2  Rice, paddy     hg/ha      28000         NaN         NaN  \n",
       "3      Sorghum     hg/ha      16571         NaN         NaN  \n",
       "4        Wheat     hg/ha       6315         NaN         NaN  \n",
       "\n",
       "[5 rows x 21 columns]"
      ]
     },
     "execution_count": 51,
     "metadata": {},
     "output_type": "execute_result"
    }
   ],
   "source": [
    "new_data=pd.merge(data, new_df, on=['country','Year'], how='left')\n",
    "new_data.head()"
   ]
  },
  {
   "cell_type": "code",
   "execution_count": 52,
   "id": "4d001848",
   "metadata": {
    "scrolled": true
   },
   "outputs": [
    {
     "data": {
      "text/plain": [
       "(37515, 21)"
      ]
     },
     "execution_count": 52,
     "metadata": {},
     "output_type": "execute_result"
    }
   ],
   "source": [
    "new_data.shape"
   ]
  },
  {
   "cell_type": "code",
   "execution_count": 53,
   "id": "d93306da",
   "metadata": {},
   "outputs": [
    {
     "name": "stdout",
     "output_type": "stream",
     "text": [
      "<class 'pandas.core.frame.DataFrame'>\n",
      "Int64Index: 37515 entries, 0 to 37514\n",
      "Data columns (total 21 columns):\n",
      " #   Column           Non-Null Count  Dtype  \n",
      "---  ------           --------------  -----  \n",
      " 0   country          37515 non-null  object \n",
      " 1   Area_Code        37515 non-null  int64  \n",
      " 2   Year             37515 non-null  int64  \n",
      " 3   Year Code        37515 non-null  int64  \n",
      " 4   Element          37515 non-null  object \n",
      " 5   Domain           37515 non-null  object \n",
      " 6   Item             37515 non-null  object \n",
      " 7   Unit_pesticide   37515 non-null  object \n",
      " 8   Value_pesticide  37515 non-null  float64\n",
      " 9   avg_rain_x       33050 non-null  float64\n",
      " 10  avg_temp_x       29157 non-null  float64\n",
      " 11  crop Code        37515 non-null  object \n",
      " 12  Domain_1         37515 non-null  object \n",
      " 13  Element Code     37515 non-null  int64  \n",
      " 14  Element_1        37515 non-null  object \n",
      " 15  Item_Code        37515 non-null  int64  \n",
      " 16  Item.1           37515 non-null  object \n",
      " 17  Unit_crop        37515 non-null  object \n",
      " 18  Crop_Yield       37515 non-null  int64  \n",
      " 19  avg_temp_y       8358 non-null   float64\n",
      " 20  avg_rain_y       4468 non-null   float64\n",
      "dtypes: float64(5), int64(6), object(10)\n",
      "memory usage: 6.3+ MB\n"
     ]
    }
   ],
   "source": [
    "new_data.info()"
   ]
  },
  {
   "cell_type": "code",
   "execution_count": 54,
   "id": "dd2552ba",
   "metadata": {},
   "outputs": [],
   "source": [
    "new_data['avg_temp_x'] = new_data['avg_temp_x'].fillna(new_data.pop('avg_temp_y'))\n",
    "new_data['avg_rain_x'] = new_data['avg_rain_x'].fillna(new_data.pop('avg_rain_y'))"
   ]
  },
  {
   "cell_type": "code",
   "execution_count": 55,
   "id": "2152b909",
   "metadata": {},
   "outputs": [
    {
     "data": {
      "text/plain": [
       "0"
      ]
     },
     "execution_count": 55,
     "metadata": {},
     "output_type": "execute_result"
    }
   ],
   "source": [
    "new_data.duplicated().sum()"
   ]
  },
  {
   "cell_type": "code",
   "execution_count": 56,
   "id": "04c8761e",
   "metadata": {
    "scrolled": false
   },
   "outputs": [
    {
     "data": {
      "text/plain": [
       "country            0\n",
       "Area_Code          0\n",
       "Year               0\n",
       "Year Code          0\n",
       "Element            0\n",
       "Domain             0\n",
       "Item               0\n",
       "Unit_pesticide     0\n",
       "Value_pesticide    0\n",
       "avg_rain_x         0\n",
       "avg_temp_x         0\n",
       "crop Code          0\n",
       "Domain_1           0\n",
       "Element Code       0\n",
       "Element_1          0\n",
       "Item_Code          0\n",
       "Item.1             0\n",
       "Unit_crop          0\n",
       "Crop_Yield         0\n",
       "dtype: int64"
      ]
     },
     "execution_count": 56,
     "metadata": {},
     "output_type": "execute_result"
    }
   ],
   "source": [
    "new_data.isna().sum()"
   ]
  },
  {
   "cell_type": "code",
   "execution_count": 57,
   "id": "118133bb",
   "metadata": {},
   "outputs": [],
   "source": [
    "new_data.rename(columns = {'avg_temp_x':'avg_temp','avg_rain_x':'avg_rain'}, inplace = True)"
   ]
  },
  {
   "cell_type": "code",
   "execution_count": 58,
   "id": "94677308",
   "metadata": {},
   "outputs": [],
   "source": [
    "df=new_data.copy()\n",
    "#df.head()"
   ]
  },
  {
   "cell_type": "code",
   "execution_count": 59,
   "id": "0e934de2",
   "metadata": {
    "scrolled": true
   },
   "outputs": [
    {
     "data": {
      "image/png": "[encoded data removed]",
      "text/plain": [
       "<Figure size 1080x1080 with 16 Axes>"
      ]
     },
     "metadata": {},
     "output_type": "display_data"
    }
   ],
   "source": [
    "new_data.plot(kind='box', subplots=True, layout=(4,4), figsize=(15,15))\n",
    "plt.show()"
   ]
  },
  {
   "cell_type": "markdown",
   "id": "a9b3b55e",
   "metadata": {},
   "source": [
    "crop_yield is our target variable. the dataset has many countries and all are not equal in production. Some are high, some falls in mid range, some in low range.similarly pesticide and average temp also helps in determining the yield."
   ]
  },
  {
   "cell_type": "markdown",
   "id": "44887be0",
   "metadata": {},
   "source": [
    "### Handling Outliers"
   ]
  },
  {
   "cell_type": "code",
   "execution_count": 60,
   "id": "603eebe1",
   "metadata": {},
   "outputs": [
    {
     "data": {
      "image/png": "[encoded data removed]",
      "text/plain": [
       "<Figure size 720x360 with 1 Axes>"
      ]
     },
     "metadata": {},
     "output_type": "display_data"
    }
   ],
   "source": [
    "#handling outliers for 'Item_code'\n",
    "iqr=new_data['Item_Code'].quantile(.75)-new_data['Item_Code'].quantile(.25)\n",
    "up=new_data['Item_Code'].quantile(.75) + 1.5*iqr\n",
    "low=new_data['Item_Code'].quantile(.25) - 1.5*iqr\n",
    "outliers=new_data[(new_data['Item_Code']<low)|(new_data['Item_Code']>up)]\n",
    "#using statistics will cap Item_Code>up to upper limit and Item_Code<low to lower limit\n",
    "new_data.loc[new_data['Item_Code']<low,'Item_Code']=low\n",
    "new_data.loc[new_data['Item_Code']>up,'Item_Code']=up\n",
    "new_data[['Item_Code']].boxplot()\n",
    "plt.show()"
   ]
  },
  {
   "cell_type": "markdown",
   "id": "0b3a2e60",
   "metadata": {},
   "source": [
    "We can do Winsorsation. Winsorizing or winsorization is the transformation of statistics \n",
    "by limiting extreme values in the statistical data to reduce the effect of possibly spurious outliers.\n",
    "A typical strategy is to set all outliers to a specified percentile of the data; for example,\n",
    "a 90% winsorization would see all data below the 5th percentile set to the 5th percentile, \n",
    "and data above the 95th percentile set to the 95th percentile."
   ]
  },
  {
   "cell_type": "code",
   "execution_count": 61,
   "id": "dff8cb1f",
   "metadata": {},
   "outputs": [],
   "source": [
    "#import scipy.stats\n",
    "from scipy.stats.mstats import winsorize"
   ]
  },
  {
   "cell_type": "code",
   "execution_count": 62,
   "id": "5b42ffa3",
   "metadata": {},
   "outputs": [],
   "source": [
    "#handling outliers for 'avg_temp'\n",
    "new_data['avg_temp'] = winsorize(new_data[\"avg_temp\"], limits = 0.01)"
   ]
  },
  {
   "cell_type": "code",
   "execution_count": 63,
   "id": "3f3ef283",
   "metadata": {},
   "outputs": [],
   "source": [
    "#new_data['avg_temp'].unique().tolist()"
   ]
  },
  {
   "cell_type": "code",
   "execution_count": 64,
   "id": "06db5255",
   "metadata": {},
   "outputs": [],
   "source": [
    "#handling outliers for 'Crop_Yield'\n",
    "new_data['Crop_Yield'] = winsorize(new_data[\"Crop_Yield\"], limits = 0.01)"
   ]
  },
  {
   "cell_type": "code",
   "execution_count": 65,
   "id": "561bcdcd",
   "metadata": {},
   "outputs": [],
   "source": [
    "#handling outliers for 'Value_pesticide'\n",
    "new_data['Value_pesticide'] = winsorize(new_data[\"Value_pesticide\"], limits = 0.01)"
   ]
  },
  {
   "cell_type": "code",
   "execution_count": 66,
   "id": "27fa30e0",
   "metadata": {},
   "outputs": [
    {
     "name": "stdout",
     "output_type": "stream",
     "text": [
      "<class 'pandas.core.frame.DataFrame'>\n",
      "Int64Index: 37515 entries, 0 to 37514\n",
      "Data columns (total 19 columns):\n",
      " #   Column           Non-Null Count  Dtype  \n",
      "---  ------           --------------  -----  \n",
      " 0   country          37515 non-null  object \n",
      " 1   Area_Code        37515 non-null  int64  \n",
      " 2   Year             37515 non-null  int64  \n",
      " 3   Year Code        37515 non-null  int64  \n",
      " 4   Element          37515 non-null  object \n",
      " 5   Domain           37515 non-null  object \n",
      " 6   Item             37515 non-null  object \n",
      " 7   Unit_pesticide   37515 non-null  object \n",
      " 8   Value_pesticide  37515 non-null  float64\n",
      " 9   avg_rain         37515 non-null  float64\n",
      " 10  avg_temp         37515 non-null  float64\n",
      " 11  crop Code        37515 non-null  object \n",
      " 12  Domain_1         37515 non-null  object \n",
      " 13  Element Code     37515 non-null  int64  \n",
      " 14  Element_1        37515 non-null  object \n",
      " 15  Item_Code        37515 non-null  float64\n",
      " 16  Item.1           37515 non-null  object \n",
      " 17  Unit_crop        37515 non-null  object \n",
      " 18  Crop_Yield       37515 non-null  int64  \n",
      "dtypes: float64(4), int64(5), object(10)\n",
      "memory usage: 5.7+ MB\n"
     ]
    }
   ],
   "source": [
    "new_data.info()"
   ]
  },
  {
   "cell_type": "code",
   "execution_count": 67,
   "id": "c8dfed08",
   "metadata": {
    "scrolled": false
   },
   "outputs": [
    {
     "data": {
      "image/png": "[encoded data removed]",
      "text/plain": [
       "<Figure size 1080x1080 with 16 Axes>"
      ]
     },
     "metadata": {},
     "output_type": "display_data"
    }
   ],
   "source": [
    "new_data.plot(kind='box', subplots=True, layout=(4,4), figsize=(15,15))\n",
    "plt.show()"
   ]
  },
  {
   "cell_type": "markdown",
   "id": "9d96fa3a",
   "metadata": {},
   "source": [
    "## Feature Reduction"
   ]
  },
  {
   "cell_type": "code",
   "execution_count": 68,
   "id": "3a71f7cb",
   "metadata": {},
   "outputs": [],
   "source": [
    "new_data.drop(['Area_Code','Year Code', 'Element', 'Domain','Item', 'Unit_pesticide', 'crop Code', \n",
    "               'Unit_crop','Domain_1','Element_1','Element Code','Item_Code'],axis=1, inplace= True)"
   ]
  },
  {
   "cell_type": "code",
   "execution_count": 69,
   "id": "b9e8c5b7",
   "metadata": {},
   "outputs": [],
   "source": [
    "new_data.rename(columns = {'Value_pesticide':'Value_pesticide(in tons)','Crop_Yield':'Crop_Yield(hg/ha)',\n",
    "                           'Item.1':'crop'}, inplace = True)"
   ]
  },
  {
   "cell_type": "code",
   "execution_count": 70,
   "id": "ace4d08f",
   "metadata": {},
   "outputs": [
    {
     "data": {
      "text/plain": [
       "Index(['country', 'Year', 'Value_pesticide(in tons)', 'avg_rain', 'avg_temp',\n",
       "       'crop', 'Crop_Yield(hg/ha)'],\n",
       "      dtype='object')"
      ]
     },
     "execution_count": 70,
     "metadata": {},
     "output_type": "execute_result"
    }
   ],
   "source": [
    "new_data.columns"
   ]
  },
  {
   "cell_type": "code",
   "execution_count": 71,
   "id": "507aa5e5",
   "metadata": {},
   "outputs": [
    {
     "data": {
      "text/html": [
       "<div>\n",
       "<style scoped>\n",
       "    .dataframe tbody tr th:only-of-type {\n",
       "        vertical-align: middle;\n",
       "    }\n",
       "\n",
       "    .dataframe tbody tr th {\n",
       "        vertical-align: top;\n",
       "    }\n",
       "\n",
       "    .dataframe thead th {\n",
       "        text-align: right;\n",
       "    }\n",
       "</style>\n",
       "<table border=\"1\" class=\"dataframe\">\n",
       "  <thead>\n",
       "    <tr style=\"text-align: right;\">\n",
       "      <th></th>\n",
       "      <th>country</th>\n",
       "      <th>Year</th>\n",
       "      <th>Value_pesticide(in tons)</th>\n",
       "      <th>avg_rain</th>\n",
       "      <th>avg_temp</th>\n",
       "      <th>crop</th>\n",
       "      <th>Crop_Yield(hg/ha)</th>\n",
       "    </tr>\n",
       "  </thead>\n",
       "  <tbody>\n",
       "    <tr>\n",
       "      <th>0</th>\n",
       "      <td>Algeria</td>\n",
       "      <td>1990</td>\n",
       "      <td>1828.92</td>\n",
       "      <td>89.0</td>\n",
       "      <td>17.48</td>\n",
       "      <td>Maize</td>\n",
       "      <td>16500</td>\n",
       "    </tr>\n",
       "    <tr>\n",
       "      <th>1</th>\n",
       "      <td>Algeria</td>\n",
       "      <td>1990</td>\n",
       "      <td>1828.92</td>\n",
       "      <td>89.0</td>\n",
       "      <td>17.48</td>\n",
       "      <td>Potatoes</td>\n",
       "      <td>78936</td>\n",
       "    </tr>\n",
       "    <tr>\n",
       "      <th>2</th>\n",
       "      <td>Algeria</td>\n",
       "      <td>1990</td>\n",
       "      <td>1828.92</td>\n",
       "      <td>89.0</td>\n",
       "      <td>17.48</td>\n",
       "      <td>Rice, paddy</td>\n",
       "      <td>28000</td>\n",
       "    </tr>\n",
       "    <tr>\n",
       "      <th>3</th>\n",
       "      <td>Algeria</td>\n",
       "      <td>1990</td>\n",
       "      <td>1828.92</td>\n",
       "      <td>89.0</td>\n",
       "      <td>17.48</td>\n",
       "      <td>Sorghum</td>\n",
       "      <td>16571</td>\n",
       "    </tr>\n",
       "    <tr>\n",
       "      <th>4</th>\n",
       "      <td>Algeria</td>\n",
       "      <td>1990</td>\n",
       "      <td>1828.92</td>\n",
       "      <td>89.0</td>\n",
       "      <td>17.48</td>\n",
       "      <td>Wheat</td>\n",
       "      <td>6315</td>\n",
       "    </tr>\n",
       "  </tbody>\n",
       "</table>\n",
       "</div>"
      ],
      "text/plain": [
       "   country  Year  Value_pesticide(in tons)  avg_rain  avg_temp         crop  \\\n",
       "0  Algeria  1990                   1828.92      89.0     17.48        Maize   \n",
       "1  Algeria  1990                   1828.92      89.0     17.48     Potatoes   \n",
       "2  Algeria  1990                   1828.92      89.0     17.48  Rice, paddy   \n",
       "3  Algeria  1990                   1828.92      89.0     17.48      Sorghum   \n",
       "4  Algeria  1990                   1828.92      89.0     17.48        Wheat   \n",
       "\n",
       "   Crop_Yield(hg/ha)  \n",
       "0              16500  \n",
       "1              78936  \n",
       "2              28000  \n",
       "3              16571  \n",
       "4               6315  "
      ]
     },
     "execution_count": 71,
     "metadata": {},
     "output_type": "execute_result"
    }
   ],
   "source": [
    "new_data.head()"
   ]
  },
  {
   "cell_type": "markdown",
   "id": "f1099276",
   "metadata": {},
   "source": [
    "## Feature Engineering"
   ]
  },
  {
   "cell_type": "code",
   "execution_count": 72,
   "id": "4b53547f",
   "metadata": {
    "scrolled": true
   },
   "outputs": [
    {
     "data": {
      "image/png": "[encoded data removed]",
      "text/plain": [
       "<Figure size 504x504 with 1 Axes>"
      ]
     },
     "metadata": {},
     "output_type": "display_data"
    }
   ],
   "source": [
    "plt.figure(figsize =(7,7))\n",
    "sns.pointplot(data =new_data, x = 'Crop_Yield(hg/ha)', y = 'crop')\n",
    "plt.xticks()\n",
    "plt.show()"
   ]
  },
  {
   "cell_type": "code",
   "execution_count": 73,
   "id": "1e2f4bb5",
   "metadata": {
    "scrolled": true
   },
   "outputs": [
    {
     "data": {
      "text/html": [
       "<div>\n",
       "<style scoped>\n",
       "    .dataframe tbody tr th:only-of-type {\n",
       "        vertical-align: middle;\n",
       "    }\n",
       "\n",
       "    .dataframe tbody tr th {\n",
       "        vertical-align: top;\n",
       "    }\n",
       "\n",
       "    .dataframe thead th {\n",
       "        text-align: right;\n",
       "    }\n",
       "</style>\n",
       "<table border=\"1\" class=\"dataframe\">\n",
       "  <thead>\n",
       "    <tr style=\"text-align: right;\">\n",
       "      <th></th>\n",
       "      <th>country</th>\n",
       "      <th>Year</th>\n",
       "      <th>Value_pesticide(in tons)</th>\n",
       "      <th>avg_rain</th>\n",
       "      <th>avg_temp</th>\n",
       "      <th>crop</th>\n",
       "      <th>Crop_Yield(hg/ha)</th>\n",
       "      <th>crop_range</th>\n",
       "    </tr>\n",
       "  </thead>\n",
       "  <tbody>\n",
       "    <tr>\n",
       "      <th>0</th>\n",
       "      <td>Algeria</td>\n",
       "      <td>1990</td>\n",
       "      <td>1828.92</td>\n",
       "      <td>89.0</td>\n",
       "      <td>17.48</td>\n",
       "      <td>Maize</td>\n",
       "      <td>16500</td>\n",
       "      <td>low</td>\n",
       "    </tr>\n",
       "    <tr>\n",
       "      <th>1</th>\n",
       "      <td>Algeria</td>\n",
       "      <td>1990</td>\n",
       "      <td>1828.92</td>\n",
       "      <td>89.0</td>\n",
       "      <td>17.48</td>\n",
       "      <td>Potatoes</td>\n",
       "      <td>78936</td>\n",
       "      <td>Extremely_high</td>\n",
       "    </tr>\n",
       "    <tr>\n",
       "      <th>2</th>\n",
       "      <td>Algeria</td>\n",
       "      <td>1990</td>\n",
       "      <td>1828.92</td>\n",
       "      <td>89.0</td>\n",
       "      <td>17.48</td>\n",
       "      <td>Rice, paddy</td>\n",
       "      <td>28000</td>\n",
       "      <td>low</td>\n",
       "    </tr>\n",
       "    <tr>\n",
       "      <th>3</th>\n",
       "      <td>Algeria</td>\n",
       "      <td>1990</td>\n",
       "      <td>1828.92</td>\n",
       "      <td>89.0</td>\n",
       "      <td>17.48</td>\n",
       "      <td>Sorghum</td>\n",
       "      <td>16571</td>\n",
       "      <td>Extremely_low</td>\n",
       "    </tr>\n",
       "    <tr>\n",
       "      <th>4</th>\n",
       "      <td>Algeria</td>\n",
       "      <td>1990</td>\n",
       "      <td>1828.92</td>\n",
       "      <td>89.0</td>\n",
       "      <td>17.48</td>\n",
       "      <td>Wheat</td>\n",
       "      <td>6315</td>\n",
       "      <td>low</td>\n",
       "    </tr>\n",
       "  </tbody>\n",
       "</table>\n",
       "</div>"
      ],
      "text/plain": [
       "   country  Year  Value_pesticide(in tons)  avg_rain  avg_temp         crop  \\\n",
       "0  Algeria  1990                   1828.92      89.0     17.48        Maize   \n",
       "1  Algeria  1990                   1828.92      89.0     17.48     Potatoes   \n",
       "2  Algeria  1990                   1828.92      89.0     17.48  Rice, paddy   \n",
       "3  Algeria  1990                   1828.92      89.0     17.48      Sorghum   \n",
       "4  Algeria  1990                   1828.92      89.0     17.48        Wheat   \n",
       "\n",
       "   Crop_Yield(hg/ha)      crop_range  \n",
       "0              16500             low  \n",
       "1              78936  Extremely_high  \n",
       "2              28000             low  \n",
       "3              16571   Extremely_low  \n",
       "4               6315             low  "
      ]
     },
     "execution_count": 73,
     "metadata": {},
     "output_type": "execute_result"
    }
   ],
   "source": [
    "Extremely_low = ['Soybeans','Sorghum']\n",
    "low=['Wheat','Maize','Rice, paddy']\n",
    "medium = ['Yams','Plantains and others']\n",
    "high = ['Cassava','Sweet potatoes']\n",
    "Extremely_high=['Potatoes']\n",
    "\n",
    "# initiallising a new column\n",
    "new_data['crop_range'] = new_data['crop']\n",
    "new_data.loc[new_data['crop'].isin(Extremely_low),'crop_range'] = 'Extremely_low'\n",
    "new_data.loc[new_data['crop'].isin(low),'crop_range'] = 'low'\n",
    "new_data.loc[new_data['crop'].isin(medium),'crop_range'] = 'medium'\n",
    "new_data.loc[new_data['crop'].isin(high),'crop_range'] = 'high'\n",
    "new_data.loc[new_data['crop'].isin(Extremely_high),'crop_range'] = 'Extremely_high'\n",
    "new_data.head()"
   ]
  },
  {
   "cell_type": "code",
   "execution_count": 74,
   "id": "c22b0574",
   "metadata": {},
   "outputs": [
    {
     "data": {
      "text/plain": [
       "crop_range\n",
       "Extremely_high     5647\n",
       "Extremely_low      7821\n",
       "high               6919\n",
       "low               14677\n",
       "medium             2451\n",
       "Name: Crop_Yield(hg/ha), dtype: int64"
      ]
     },
     "execution_count": 74,
     "metadata": {},
     "output_type": "execute_result"
    }
   ],
   "source": [
    "new_data.groupby('crop_range')['Crop_Yield(hg/ha)'].count()"
   ]
  },
  {
   "cell_type": "code",
   "execution_count": 75,
   "id": "2343b5c9",
   "metadata": {},
   "outputs": [
    {
     "data": {
      "text/plain": [
       "<AxesSubplot:xlabel='crop_range', ylabel='Crop_Yield(hg/ha)'>"
      ]
     },
     "execution_count": 75,
     "metadata": {},
     "output_type": "execute_result"
    },
    {
     "data": {
      "image/png": "[encoded data removed]",
      "text/plain": [
       "<Figure size 720x360 with 1 Axes>"
      ]
     },
     "metadata": {},
     "output_type": "display_data"
    }
   ],
   "source": [
    "sns.boxplot(data = new_data, y ='Crop_Yield(hg/ha)', x = 'crop_range' )"
   ]
  },
  {
   "cell_type": "code",
   "execution_count": 76,
   "id": "c0df084d",
   "metadata": {},
   "outputs": [],
   "source": [
    "df1=new_data.copy()"
   ]
  },
  {
   "cell_type": "code",
   "execution_count": 77,
   "id": "624410dd",
   "metadata": {},
   "outputs": [
    {
     "name": "stderr",
     "output_type": "stream",
     "text": [
      "C:\\Users\\vivek\\AppData\\Local\\Temp\\ipykernel_19576\\3293241270.py:3: UserWarning: To output multiple subplots, the figure containing the passed axes is being cleared.\n",
      "  new_data.hist(ax =ax)\n"
     ]
    },
    {
     "data": {
      "image/png": "[encoded data removed]",
      "text/plain": [
       "<Figure size 1152x1152 with 6 Axes>"
      ]
     },
     "metadata": {},
     "output_type": "display_data"
    }
   ],
   "source": [
    "fig = plt.figure(figsize = (16,16))\n",
    "ax = fig.gca()\n",
    "new_data.hist(ax =ax)\n",
    "plt.show()"
   ]
  },
  {
   "cell_type": "markdown",
   "id": "19c0e361",
   "metadata": {},
   "source": [
    "## Label Encoding"
   ]
  },
  {
   "cell_type": "code",
   "execution_count": 78,
   "id": "508027bc",
   "metadata": {
    "scrolled": true
   },
   "outputs": [
    {
     "data": {
      "text/html": [
       "<div>\n",
       "<style scoped>\n",
       "    .dataframe tbody tr th:only-of-type {\n",
       "        vertical-align: middle;\n",
       "    }\n",
       "\n",
       "    .dataframe tbody tr th {\n",
       "        vertical-align: top;\n",
       "    }\n",
       "\n",
       "    .dataframe thead th {\n",
       "        text-align: right;\n",
       "    }\n",
       "</style>\n",
       "<table border=\"1\" class=\"dataframe\">\n",
       "  <thead>\n",
       "    <tr style=\"text-align: right;\">\n",
       "      <th></th>\n",
       "      <th>country</th>\n",
       "      <th>Year</th>\n",
       "      <th>Value_pesticide(in tons)</th>\n",
       "      <th>avg_rain</th>\n",
       "      <th>avg_temp</th>\n",
       "      <th>crop</th>\n",
       "      <th>Crop_Yield(hg/ha)</th>\n",
       "      <th>crop_range</th>\n",
       "    </tr>\n",
       "  </thead>\n",
       "  <tbody>\n",
       "    <tr>\n",
       "      <th>0</th>\n",
       "      <td>1</td>\n",
       "      <td>1990</td>\n",
       "      <td>1828.92</td>\n",
       "      <td>89.0</td>\n",
       "      <td>17.48</td>\n",
       "      <td>Maize</td>\n",
       "      <td>16500</td>\n",
       "      <td>3</td>\n",
       "    </tr>\n",
       "    <tr>\n",
       "      <th>1</th>\n",
       "      <td>1</td>\n",
       "      <td>1990</td>\n",
       "      <td>1828.92</td>\n",
       "      <td>89.0</td>\n",
       "      <td>17.48</td>\n",
       "      <td>Potatoes</td>\n",
       "      <td>78936</td>\n",
       "      <td>0</td>\n",
       "    </tr>\n",
       "    <tr>\n",
       "      <th>2</th>\n",
       "      <td>1</td>\n",
       "      <td>1990</td>\n",
       "      <td>1828.92</td>\n",
       "      <td>89.0</td>\n",
       "      <td>17.48</td>\n",
       "      <td>Rice, paddy</td>\n",
       "      <td>28000</td>\n",
       "      <td>3</td>\n",
       "    </tr>\n",
       "    <tr>\n",
       "      <th>3</th>\n",
       "      <td>1</td>\n",
       "      <td>1990</td>\n",
       "      <td>1828.92</td>\n",
       "      <td>89.0</td>\n",
       "      <td>17.48</td>\n",
       "      <td>Sorghum</td>\n",
       "      <td>16571</td>\n",
       "      <td>1</td>\n",
       "    </tr>\n",
       "    <tr>\n",
       "      <th>4</th>\n",
       "      <td>1</td>\n",
       "      <td>1990</td>\n",
       "      <td>1828.92</td>\n",
       "      <td>89.0</td>\n",
       "      <td>17.48</td>\n",
       "      <td>Wheat</td>\n",
       "      <td>6315</td>\n",
       "      <td>3</td>\n",
       "    </tr>\n",
       "  </tbody>\n",
       "</table>\n",
       "</div>"
      ],
      "text/plain": [
       "   country  Year  Value_pesticide(in tons)  avg_rain  avg_temp         crop  \\\n",
       "0        1  1990                   1828.92      89.0     17.48        Maize   \n",
       "1        1  1990                   1828.92      89.0     17.48     Potatoes   \n",
       "2        1  1990                   1828.92      89.0     17.48  Rice, paddy   \n",
       "3        1  1990                   1828.92      89.0     17.48      Sorghum   \n",
       "4        1  1990                   1828.92      89.0     17.48        Wheat   \n",
       "\n",
       "   Crop_Yield(hg/ha)  crop_range  \n",
       "0              16500           3  \n",
       "1              78936           0  \n",
       "2              28000           3  \n",
       "3              16571           1  \n",
       "4               6315           3  "
      ]
     },
     "execution_count": 78,
     "metadata": {},
     "output_type": "execute_result"
    }
   ],
   "source": [
    "from sklearn.preprocessing import LabelEncoder\n",
    "le1 = LabelEncoder()\n",
    "le2 = LabelEncoder()\n",
    "new_data['country']= le1.fit_transform(new_data['country'])\n",
    "new_data['crop_range']= le2.fit_transform(new_data['crop_range'])\n",
    "new_data.head()"
   ]
  },
  {
   "cell_type": "code",
   "execution_count": 81,
   "id": "75027962",
   "metadata": {
    "scrolled": false
   },
   "outputs": [
    {
     "data": {
      "text/plain": [
       "68     3560\n",
       "21     1962\n",
       "97     1360\n",
       "112    1029\n",
       "6      1029\n",
       "69      870\n",
       "76      840\n",
       "46      675\n",
       "151     668\n",
       "28      588\n",
       "134     525\n",
       "135     525\n",
       "35      459\n",
       "4       408\n",
       "45      408\n",
       "99      357\n",
       "74      357\n",
       "47      357\n",
       "71      306\n",
       "57      291\n",
       "78      282\n",
       "79      270\n",
       "27      270\n",
       "157     270\n",
       "161     270\n",
       "31      255\n",
       "93      243\n",
       "16      243\n",
       "154     243\n",
       "25      243\n",
       "19      243\n",
       "124     243\n",
       "116     243\n",
       "60      240\n",
       "65      240\n",
       "101     236\n",
       "48      216\n",
       "165     216\n",
       "43      216\n",
       "33      216\n",
       "34      216\n",
       "89      216\n",
       "115     216\n",
       "166     216\n",
       "136     216\n",
       "64      216\n",
       "24      216\n",
       "113     215\n",
       "30      215\n",
       "107     215\n",
       "128     204\n",
       "61      203\n",
       "90      203\n",
       "105     200\n",
       "156     198\n",
       "2       196\n",
       "51      192\n",
       "39      190\n",
       "95      189\n",
       "120     189\n",
       "108     189\n",
       "100     189\n",
       "159     189\n",
       "114     189\n",
       "52      189\n",
       "144     189\n",
       "37      189\n",
       "158     189\n",
       "75      189\n",
       "59      189\n",
       "29      189\n",
       "58      183\n",
       "138     176\n",
       "147     175\n",
       "11      174\n",
       "118     162\n",
       "82      162\n",
       "23      162\n",
       "36      162\n",
       "129     162\n",
       "122     162\n",
       "149     162\n",
       "139     162\n",
       "54      162\n",
       "146     162\n",
       "66      162\n",
       "162     162\n",
       "86      153\n",
       "123     150\n",
       "81      150\n",
       "155     150\n",
       "143     149\n",
       "63      148\n",
       "18      143\n",
       "142     142\n",
       "8       138\n",
       "62      135\n",
       "103     135\n",
       "70      135\n",
       "163     135\n",
       "73      135\n",
       "1       134\n",
       "145     129\n",
       "121     125\n",
       "40      124\n",
       "132     120\n",
       "96      120\n",
       "7       115\n",
       "0       115\n",
       "91      109\n",
       "148     108\n",
       "56      108\n",
       "85      108\n",
       "12      108\n",
       "126     108\n",
       "141     108\n",
       "106     108\n",
       "3       108\n",
       "84      108\n",
       "26      108\n",
       "92      106\n",
       "77      104\n",
       "152     100\n",
       "133     100\n",
       "111      99\n",
       "102      98\n",
       "49       96\n",
       "42       96\n",
       "117      92\n",
       "110      91\n",
       "9        88\n",
       "22       81\n",
       "150      81\n",
       "104      81\n",
       "80       81\n",
       "125      80\n",
       "119      80\n",
       "87       75\n",
       "5        75\n",
       "13       75\n",
       "20       73\n",
       "130      70\n",
       "44       61\n",
       "53       54\n",
       "127      54\n",
       "72       54\n",
       "140      54\n",
       "55       54\n",
       "94       54\n",
       "17       54\n",
       "41       54\n",
       "38       54\n",
       "109      54\n",
       "88       51\n",
       "14       51\n",
       "83       50\n",
       "50       50\n",
       "137      49\n",
       "32       47\n",
       "98       33\n",
       "10       33\n",
       "15       30\n",
       "131      27\n",
       "160      27\n",
       "67       27\n",
       "153      12\n",
       "164      12\n",
       "Name: country, dtype: int64"
      ]
     },
     "execution_count": 81,
     "metadata": {},
     "output_type": "execute_result"
    }
   ],
   "source": [
    "new_data['country'].value_counts()"
   ]
  },
  {
   "cell_type": "code",
   "execution_count": null,
   "id": "adb031b8",
   "metadata": {},
   "outputs": [],
   "source": [
    "new_data['crop'].unique()"
   ]
  },
  {
   "cell_type": "code",
   "execution_count": null,
   "id": "ac765e05",
   "metadata": {},
   "outputs": [],
   "source": [
    "mapping={\"Maize\":1, \"Potatoes\":2, \"Rice, paddy\":3,\"Sorghum\":4, \"Wheat\":5, \"Cassava\":6,\"Soybeans\":7, \"Sweet potatoes\":8, \"Plantains and others\":9,\"Yams\":10}\n",
    "new_data['crop']= new_data['crop'].map(mapping)"
   ]
  },
  {
   "cell_type": "code",
   "execution_count": null,
   "id": "a8283796",
   "metadata": {},
   "outputs": [],
   "source": [
    "#new_data=pd.get_dummies(new_data,columns=['crop'],drop_first=True)\n",
    "#new_data.head()"
   ]
  },
  {
   "cell_type": "markdown",
   "id": "9f9180e9",
   "metadata": {},
   "source": [
    "## modeling"
   ]
  },
  {
   "cell_type": "code",
   "execution_count": null,
   "id": "9f9efd8b",
   "metadata": {},
   "outputs": [],
   "source": [
    "from sklearn.model_selection import train_test_split\n",
    "\n",
    "from sklearn.metrics import mean_squared_error\n",
    "from sklearn.metrics import r2_score\n",
    "from sklearn.metrics import classification_report"
   ]
  },
  {
   "cell_type": "code",
   "execution_count": null,
   "id": "78d14566",
   "metadata": {},
   "outputs": [],
   "source": [
    "y=new_data['Crop_Yield(hg/ha)']\n",
    "x=new_data.drop(['Crop_Yield(hg/ha)','crop_range'],axis=1)"
   ]
  },
  {
   "cell_type": "code",
   "execution_count": null,
   "id": "0b530121",
   "metadata": {},
   "outputs": [],
   "source": [
    "x_train,x_test,y_train,y_test=train_test_split(x,y,random_state=42,test_size=0.2)"
   ]
  },
  {
   "cell_type": "code",
   "execution_count": null,
   "id": "612b5537",
   "metadata": {},
   "outputs": [],
   "source": [
    "from sklearn.preprocessing import StandardScaler\n",
    "scaler =StandardScaler()\n",
    "x_train =scaler.fit_transform(x_train)\n",
    "x_test =scaler.fit_transform(x_test)"
   ]
  },
  {
   "cell_type": "markdown",
   "id": "458b8bbc",
   "metadata": {},
   "source": [
    "#### LinearRegression"
   ]
  },
  {
   "cell_type": "code",
   "execution_count": null,
   "id": "5f24f49a",
   "metadata": {},
   "outputs": [],
   "source": [
    "from sklearn import linear_model\n",
    "lr=linear_model.LinearRegression()\n",
    "model=lr.fit(x_train,y_train)\n",
    "predictions=model.predict(x_test)\n",
    "#print(y_test)\n",
    "#print(predictions)"
   ]
  },
  {
   "cell_type": "code",
   "execution_count": null,
   "id": "e6b04491",
   "metadata": {},
   "outputs": [],
   "source": [
    "print('MSE is: ',mean_squared_error(y_test,predictions))\n",
    "\n",
    "print('R squared value is ',r2_score(y_test,predictions))"
   ]
  },
  {
   "cell_type": "markdown",
   "id": "b326390a",
   "metadata": {},
   "source": [
    "#### RandomForestRegressor"
   ]
  },
  {
   "cell_type": "code",
   "execution_count": null,
   "id": "4dfa39a4",
   "metadata": {},
   "outputs": [],
   "source": [
    "from sklearn.ensemble import RandomForestRegressor\n",
    "rf=RandomForestRegressor()\n",
    "rf=rf.fit(x_train,y_train)\n",
    "y_pred=rf.predict(x_test)\n",
    "\n",
    "print('Root mean squared error is ',mean_squared_error(y_test,y_pred))\n",
    "print('R2 score ',rf.score(x_test,y_test))"
   ]
  },
  {
   "cell_type": "markdown",
   "id": "352637dc",
   "metadata": {},
   "source": [
    "#### GBTRegressor"
   ]
  },
  {
   "cell_type": "code",
   "execution_count": null,
   "id": "9441b90a",
   "metadata": {},
   "outputs": [],
   "source": [
    "from sklearn.ensemble import GradientBoostingRegressor\n",
    "gb=GradientBoostingRegressor()\n",
    "gb=gb.fit(x_train,y_train)\n",
    "y_pred=gb.predict(x_test)\n",
    "\n",
    "print('Root mean squared error is ',mean_squared_error(y_test,y_pred))\n",
    "print('R2 score ',gb.score(x_test,y_test))"
   ]
  },
  {
   "cell_type": "markdown",
   "id": "5f29d114",
   "metadata": {},
   "source": [
    "#### RidgeRegression"
   ]
  },
  {
   "cell_type": "code",
   "execution_count": null,
   "id": "9b9a1178",
   "metadata": {},
   "outputs": [],
   "source": [
    "from sklearn.linear_model import Ridge\n",
    "from sklearn.pipeline import make_pipeline\n",
    "\n",
    "pipeline = make_pipeline(Ridge(alpha=1.0))\n",
    "pipeline.fit(x_train, y_train)\n",
    "\n",
    "y_pred = pipeline.predict(x_test)\n",
    "\n",
    "print('MSE test: %.3f'% mean_squared_error(y_test, y_pred))\n",
    "print('R^2 test: %.3f' % (r2_score(y_test, y_pred)))"
   ]
  },
  {
   "cell_type": "markdown",
   "id": "c94002cb",
   "metadata": {},
   "source": [
    "#### LassoRegression"
   ]
  },
  {
   "cell_type": "code",
   "execution_count": null,
   "id": "6f74e526",
   "metadata": {},
   "outputs": [],
   "source": [
    "from sklearn.linear_model import Lasso\n",
    "\n",
    "lasso = Lasso(alpha=1.0)\n",
    "lasso.fit(x_train, y_train)\n",
    "y_pred=np.round(np.clip(lasso.predict(x_test),1,10)).astype(int)\n",
    "\n",
    "print('Root mean squared error is ',mean_squared_error(y_test,y_pred))\n",
    "print('R2 score ',lasso.score(x_test,y_test))"
   ]
  },
  {
   "cell_type": "markdown",
   "id": "20fd186c",
   "metadata": {},
   "source": [
    "#### ElasticNetRegression"
   ]
  },
  {
   "cell_type": "code",
   "execution_count": null,
   "id": "69669fab",
   "metadata": {},
   "outputs": [],
   "source": [
    "from sklearn.linear_model import ElasticNet\n",
    "model = ElasticNet(alpha=1.0, l1_ratio=0.5)\n",
    "model.fit(x_train, y_train)\n",
    "y_pred=model.predict(x_test)\n",
    "\n",
    "print('Root mean squared error is ',mean_squared_error(y_test,y_pred))\n",
    "print('R2 score ',model.score(x_test,y_test))\n"
   ]
  },
  {
   "cell_type": "markdown",
   "id": "349578d0",
   "metadata": {},
   "source": [
    "#### xg_boost"
   ]
  },
  {
   "cell_type": "code",
   "execution_count": null,
   "id": "3123c6be",
   "metadata": {},
   "outputs": [],
   "source": [
    "#pip install xgboost"
   ]
  },
  {
   "cell_type": "code",
   "execution_count": null,
   "id": "32b4f7bd",
   "metadata": {},
   "outputs": [],
   "source": [
    "import xgboost as xgb\n",
    "from xgboost import XGBRegressor\n",
    "model = XGBRegressor()\n",
    "model.fit(x_train, y_train)\n",
    "y_pred=model.predict(x_test)\n",
    "\n",
    "print('Root mean squared error is ',mean_squared_error(y_test,y_pred))\n",
    "print('R2 score ',model.score(x_test,y_test))"
   ]
  },
  {
   "cell_type": "markdown",
   "id": "8a83e16b",
   "metadata": {},
   "source": [
    "#### DecisionTreeRegressor"
   ]
  },
  {
   "cell_type": "code",
   "execution_count": null,
   "id": "0aa45448",
   "metadata": {},
   "outputs": [],
   "source": [
    "from sklearn.tree import DecisionTreeRegressor\n",
    "tree=DecisionTreeRegressor()\n",
    "tree.fit(x_train, y_train)\n",
    "y_pred=tree.predict(x_test)\n",
    "\n",
    "print('Root mean squared error is ',mean_squared_error(y_test,y_pred))\n",
    "print('R2 score ',tree.score(x_test,y_test))"
   ]
  },
  {
   "cell_type": "markdown",
   "id": "4706ebe8",
   "metadata": {},
   "source": [
    "#### SGD"
   ]
  },
  {
   "cell_type": "code",
   "execution_count": null,
   "id": "5efd24c6",
   "metadata": {},
   "outputs": [],
   "source": [
    "from sklearn.linear_model import SGDRegressor\n",
    "sgd=SGDRegressor(max_iter=1000, tol=1e-3)\n",
    "sgd.fit(x_train, y_train)\n",
    "y_pred=sgd.predict(x_test)\n",
    "\n",
    "print('Root mean squared error is ',mean_squared_error(y_test,y_pred))\n",
    "print('R2 score ',sgd.score(x_test,y_test))"
   ]
  },
  {
   "cell_type": "markdown",
   "id": "355db84e",
   "metadata": {},
   "source": [
    "#### knn"
   ]
  },
  {
   "cell_type": "code",
   "execution_count": null,
   "id": "5c78e851",
   "metadata": {},
   "outputs": [],
   "source": [
    "from sklearn.neighbors import KNeighborsRegressor\n",
    "knn_model = KNeighborsRegressor(n_neighbors=5).fit(x_train, y_train)\n",
    "preds = knn_model.predict(x_test)\n",
    "\n",
    "print('Root mean squared error is ',mean_squared_error(y_test,preds))\n",
    "print('R2 score ',knn_model.score(x_test,y_test))"
   ]
  },
  {
   "cell_type": "markdown",
   "id": "990610a2",
   "metadata": {},
   "source": [
    "#### Extra Random Trees"
   ]
  },
  {
   "cell_type": "code",
   "execution_count": null,
   "id": "d7d202d3",
   "metadata": {},
   "outputs": [],
   "source": [
    "from sklearn.ensemble import ExtraTreesRegressor\n",
    "etr=ExtraTreesRegressor().fit(x_train, y_train)\n",
    "y_pred=etr.predict(x_test)\n",
    "\n",
    "print('Root mean squared error is ',mean_squared_error(y_test,y_pred))\n",
    "print('R2 score ',etr.score(x_test,y_test))"
   ]
  },
  {
   "cell_type": "markdown",
   "id": "1530ac15",
   "metadata": {},
   "source": [
    "#### svr"
   ]
  },
  {
   "cell_type": "code",
   "execution_count": null,
   "id": "90e4f081",
   "metadata": {},
   "outputs": [],
   "source": [
    "from sklearn.svm import SVR\n",
    "svr=SVR()\n",
    "svr.fit(x_train,y_train)\n",
    "y_pred=svr.predict(x_test)\n",
    "\n",
    "print('Root mean squared error is ',mean_squared_error(y_test,y_pred))\n",
    "print('R2 score ',svr.score(x_test,y_test))"
   ]
  },
  {
   "cell_type": "markdown",
   "id": "809cc174",
   "metadata": {},
   "source": [
    "#### Hyper Parameter Tuning"
   ]
  },
  {
   "cell_type": "code",
   "execution_count": null,
   "id": "958d11c4",
   "metadata": {},
   "outputs": [],
   "source": [
    "# Trying to improve random forest regressor with hyper parameter tuning\n",
    "from sklearn.model_selection import GridSearchCV\n",
    "param_grid = { 'bootstrap': [True], 'max_depth': [80, 90, 100, 110],\n",
    "              'max_features': [2, 3],'min_samples_leaf': [3, 4, 5],\n",
    "              'min_samples_split': [8, 10, 12],'n_estimators': [100, 200, 300, 1000]}\n",
    "grid_search = GridSearchCV(estimator = etr, param_grid = param_grid, \n",
    "                          cv = 2, n_jobs = -1, verbose = 2).fit(x_train, y_train)\n",
    "\n",
    "grid_search.best_params_"
   ]
  },
  {
   "cell_type": "code",
   "execution_count": null,
   "id": "d4e07c7c",
   "metadata": {},
   "outputs": [],
   "source": [
    "etr_tuning=ExtraTreesRegressor(bootstrap= True,max_depth= 100,max_features=3,\n",
    "                               min_samples_leaf= 3,min_samples_split=8,n_estimators= 300)\n",
    "etr_tuning=etr_tuning.fit(x_train,y_train)\n",
    "y_pred = etr_tuning.predict(x_test)\n",
    "\n",
    "print(\"Root Mean squared error is  \", mean_squared_error(y_test,y_pred))\n",
    "print(\"R2 score \", etr_tuning.score(x_test,y_test))"
   ]
  },
  {
   "cell_type": "code",
   "execution_count": null,
   "id": "9253cc7b",
   "metadata": {},
   "outputs": [],
   "source": [
    "#import pickle\n",
    "#pickle.dump(svc,open('model.pkl','wb'))"
   ]
  },
  {
   "cell_type": "code",
   "execution_count": null,
   "id": "27317d03",
   "metadata": {},
   "outputs": [],
   "source": [
    "#loading model to compare the results\n",
    "#model=pickle.load(open('model.pkl','rb'))\n",
    "#print ('predicted yield = ',model.predict([[2020,25,13,20,1,]]))"
   ]
  }
 ],
 "metadata": {
  "kernelspec": {
   "display_name": "Python 3 (ipykernel)",
   "language": "python",
   "name": "python3"
  },
  "language_info": {
   "codemirror_mode": {
    "name": "ipython",
    "version": 3
   },
   "file_extension": ".py",
   "mimetype": "text/x-python",
   "name": "python",
   "nbconvert_exporter": "python",
   "pygments_lexer": "ipython3",
   "version": "3.9.12"
  }
 },
 "nbformat": 4,
 "nbformat_minor": 5
}
